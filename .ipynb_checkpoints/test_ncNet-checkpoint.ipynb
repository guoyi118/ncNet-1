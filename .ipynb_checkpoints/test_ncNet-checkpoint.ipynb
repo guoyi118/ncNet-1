{
 "cells": [
  {
   "cell_type": "markdown",
   "metadata": {},
   "source": [
    "# Import the necessary modules"
   ]
  },
  {
   "cell_type": "code",
   "execution_count": 1,
   "metadata": {},
   "outputs": [
    {
     "name": "stdout",
     "output_type": "stream",
     "text": [
      "Requirement already satisfied: torch in /Users/yuyu/anaconda3/lib/python3.8/site-packages (1.8.1)\n",
      "Requirement already satisfied: typing-extensions in /Users/yuyu/anaconda3/lib/python3.8/site-packages (from torch) (3.7.4.2)\n",
      "Requirement already satisfied: numpy in /Users/yuyu/anaconda3/lib/python3.8/site-packages (from torch) (1.18.5)\n"
     ]
    }
   ],
   "source": [
    "! pip3 install torch"
   ]
  },
  {
   "cell_type": "code",
   "execution_count": 3,
   "metadata": {},
   "outputs": [
    {
     "name": "stdout",
     "output_type": "stream",
     "text": [
      "Found existing installation: torchtext 0.8.0\n",
      "Uninstalling torchtext-0.8.0:\n",
      "  Successfully uninstalled torchtext-0.8.0\n",
      "Collecting torchtext==0.8\n",
      "  Using cached torchtext-0.8.0-cp38-cp38-macosx_10_9_x86_64.whl (1.5 MB)\n",
      "Requirement already satisfied, skipping upgrade: numpy in /Users/yuyu/anaconda3/lib/python3.8/site-packages (from torchtext==0.8) (1.18.5)\n",
      "Requirement already satisfied, skipping upgrade: requests in /Users/yuyu/anaconda3/lib/python3.8/site-packages (from torchtext==0.8) (2.24.0)\n",
      "Requirement already satisfied, skipping upgrade: tqdm in /Users/yuyu/anaconda3/lib/python3.8/site-packages (from torchtext==0.8) (4.47.0)\n",
      "Requirement already satisfied, skipping upgrade: torch in /Users/yuyu/anaconda3/lib/python3.8/site-packages (from torchtext==0.8) (1.8.1)\n",
      "Requirement already satisfied, skipping upgrade: idna<3,>=2.5 in /Users/yuyu/anaconda3/lib/python3.8/site-packages (from requests->torchtext==0.8) (2.10)\n",
      "Requirement already satisfied, skipping upgrade: urllib3!=1.25.0,!=1.25.1,<1.26,>=1.21.1 in /Users/yuyu/anaconda3/lib/python3.8/site-packages (from requests->torchtext==0.8) (1.25.9)\n",
      "Requirement already satisfied, skipping upgrade: certifi>=2017.4.17 in /Users/yuyu/anaconda3/lib/python3.8/site-packages (from requests->torchtext==0.8) (2020.6.20)\n",
      "Requirement already satisfied, skipping upgrade: chardet<4,>=3.0.2 in /Users/yuyu/anaconda3/lib/python3.8/site-packages (from requests->torchtext==0.8) (3.0.4)\n",
      "Requirement already satisfied, skipping upgrade: typing-extensions in /Users/yuyu/anaconda3/lib/python3.8/site-packages (from torch->torchtext==0.8) (3.7.4.2)\n",
      "Installing collected packages: torchtext\n",
      "Successfully installed torchtext-0.8.0\n"
     ]
    }
   ],
   "source": [
    "!pip uninstall torchtext -y\n",
    "!pip install -U torchtext==0.8"
   ]
  },
  {
   "cell_type": "code",
   "execution_count": 5,
   "metadata": {
    "ExecuteTime": {
     "end_time": "2021-04-13T09:23:31.397656Z",
     "start_time": "2021-04-13T09:23:31.387727Z"
    }
   },
   "outputs": [],
   "source": [
    "import torch\n",
    "import torch.nn as nn\n",
    "\n",
    "from model.Model import Seq2Seq\n",
    "from model.Encoder import Encoder\n",
    "from model.Decoder import Decoder\n",
    "from model.VisAwareTranslation import translate_sentence_with_guidance, postprocessing, get_all_table_columns\n",
    "from preprocessing.build_vocab import build_vocab\n",
    "from utilities.vis_rendering import VisRendering\n",
    "\n",
    "from IPython.core.interactiveshell import InteractiveShell\n",
    "InteractiveShell.ast_node_interactivity = 'all'\n",
    "# from vega import VegaLite\n",
    "\n",
    "import random\n",
    "import numpy as np\n",
    "import pandas as pd\n",
    "import math"
   ]
  },
  {
   "cell_type": "code",
   "execution_count": 6,
   "metadata": {
    "ExecuteTime": {
     "end_time": "2021-04-13T09:13:16.777575Z",
     "start_time": "2021-04-13T09:13:16.654148Z"
    }
   },
   "outputs": [
    {
     "data": {
      "text/plain": [
       "<torch._C.Generator at 0x7f99aa315930>"
      ]
     },
     "execution_count": 6,
     "metadata": {},
     "output_type": "execute_result"
    }
   ],
   "source": [
    "SEED = 1234\n",
    "\n",
    "random.seed(SEED)\n",
    "np.random.seed(SEED)\n",
    "torch.manual_seed(SEED)\n",
    "torch.cuda.manual_seed(SEED)\n",
    "torch.backends.cudnn.deterministic = True"
   ]
  },
  {
   "cell_type": "code",
   "execution_count": 7,
   "metadata": {},
   "outputs": [],
   "source": [
    "# device = torch.device('cuda' if torch.cuda.is_available() else 'cpu')\n",
    "device = torch.device('cpu') "
   ]
  },
  {
   "cell_type": "markdown",
   "metadata": {},
   "source": [
    "# Build vocab"
   ]
  },
  {
   "cell_type": "code",
   "execution_count": 11,
   "metadata": {},
   "outputs": [
    {
     "name": "stdout",
     "output_type": "stream",
     "text": [
      "------------------------------\n",
      "| Build vocab start ... | \n",
      "------------------------------\n"
     ]
    },
    {
     "name": "stderr",
     "output_type": "stream",
     "text": [
      "/Users/yuyu/anaconda3/lib/python3.8/site-packages/torchtext/data/field.py:150: UserWarning: Field class will be retired soon and moved to torchtext.legacy. Please see the most recent release notes for further information.\n",
      "  warnings.warn('{} class will be retired soon and moved to torchtext.legacy. Please see the most recent release notes for further information.'.format(self.__class__.__name__), UserWarning)\n",
      "/Users/yuyu/anaconda3/lib/python3.8/site-packages/torchtext/data/example.py:68: UserWarning: Example class will be retired soon and moved to torchtext.legacy. Please see the most recent release notes for further information.\n",
      "  warnings.warn('Example class will be retired soon and moved to torchtext.legacy. Please see the most recent release notes for further information.', UserWarning)\n",
      "/Users/yuyu/anaconda3/lib/python3.8/site-packages/torchtext/data/example.py:78: UserWarning: Example class will be retired soon and moved to torchtext.legacy. Please see the most recent release notes for further information.\n",
      "  warnings.warn('Example class will be retired soon and moved to torchtext.legacy. Please see the most recent release notes for further information.', UserWarning)\n"
     ]
    },
    {
     "name": "stdout",
     "output_type": "stream",
     "text": [
      "------------------------------\n",
      "| Build vocab end ... | \n",
      "------------------------------\n"
     ]
    },
    {
     "name": "stderr",
     "output_type": "stream",
     "text": [
      "/Users/yuyu/anaconda3/lib/python3.8/site-packages/torchtext/data/iterator.py:48: UserWarning: BucketIterator class will be retired soon and moved to torchtext.legacy. Please see the most recent release notes for further information.\n",
      "  warnings.warn('{} class will be retired soon and moved to torchtext.legacy. Please see the most recent release notes for further information.'.format(self.__class__.__name__), UserWarning)\n"
     ]
    }
   ],
   "source": [
    "print(\"------------------------------\\n| Build vocab start ... | \\n------------------------------\")\n",
    "SRC, TRG, TOK_TYPES, BATCH_SIZE, train_iterator, valid_iterator, test_iterator, my_max_length = build_vocab(\n",
    "    data_dir='./dataset/dataset_final/',\n",
    "    db_info='./dataset/database_information.csv',\n",
    "    batch_size=128,\n",
    "    max_input_length=128\n",
    ")\n",
    "print(\"------------------------------\\n| Build vocab end ... | \\n------------------------------\")"
   ]
  },
  {
   "cell_type": "markdown",
   "metadata": {},
   "source": [
    "# Construct ncNet model"
   ]
  },
  {
   "cell_type": "code",
   "execution_count": 12,
   "metadata": {},
   "outputs": [],
   "source": [
    "INPUT_DIM = len(SRC.vocab)\n",
    "OUTPUT_DIM = len(TRG.vocab)\n",
    "HID_DIM = 256  # it equals to embedding dimension \n",
    "ENC_LAYERS = 3 \n",
    "DEC_LAYERS = 3 \n",
    "ENC_HEADS = 8\n",
    "DEC_HEADS = 8\n",
    "ENC_PF_DIM = 512\n",
    "DEC_PF_DIM = 512\n",
    "ENC_DROPOUT = 0.1\n",
    "DEC_DROPOUT = 0.1\n",
    "\n",
    "enc = Encoder(INPUT_DIM,\n",
    "              HID_DIM,\n",
    "              ENC_LAYERS,\n",
    "              ENC_HEADS,\n",
    "              ENC_PF_DIM,\n",
    "              ENC_DROPOUT,\n",
    "              device,\n",
    "              TOK_TYPES,\n",
    "              my_max_length\n",
    "              )\n",
    "\n",
    "dec = Decoder(OUTPUT_DIM,\n",
    "              HID_DIM,\n",
    "              DEC_LAYERS,\n",
    "              DEC_HEADS,\n",
    "              DEC_PF_DIM,\n",
    "              DEC_DROPOUT,\n",
    "              device,\n",
    "              my_max_length\n",
    "              )\n",
    "\n",
    "SRC_PAD_IDX = SRC.vocab.stoi[SRC.pad_token]\n",
    "TRG_PAD_IDX = TRG.vocab.stoi[TRG.pad_token]\n",
    "\n",
    "model = Seq2Seq(enc, dec, SRC, SRC_PAD_IDX, TRG_PAD_IDX, device).to(device)  # define the transformer-based ncNet"
   ]
  },
  {
   "cell_type": "markdown",
   "metadata": {},
   "source": [
    "# Load the trained ncNet model"
   ]
  },
  {
   "cell_type": "code",
   "execution_count": 13,
   "metadata": {},
   "outputs": [
    {
     "data": {
      "text/plain": [
       "<All keys matched successfully>"
      ]
     },
     "execution_count": 13,
     "metadata": {},
     "output_type": "execute_result"
    }
   ],
   "source": [
    "model.load_state_dict(torch.load('./save_models/model_best.pt', map_location=torch.device('cpu'))) ### map to cpu"
   ]
  },
  {
   "cell_type": "markdown",
   "metadata": {},
   "source": [
    "# Testing"
   ]
  },
  {
   "cell_type": "markdown",
   "metadata": {},
   "source": [
    "## read the testing dataset"
   ]
  },
  {
   "cell_type": "code",
   "execution_count": 14,
   "metadata": {},
   "outputs": [],
   "source": [
    "db_tables_columns = get_all_table_columns('./dataset/db_tables_columns.json')\n",
    "\n",
    "test_df = pd.read_csv('./dataset/dataset_final/test.csv')\n",
    "\n",
    "# shuffle your dataframe in-place and reset the index\n",
    "test_df = test_df.sample(frac=1).reset_index(drop=True)"
   ]
  },
  {
   "cell_type": "markdown",
   "metadata": {},
   "source": [
    "## testing and rendering the result using vega-lite"
   ]
  },
  {
   "cell_type": "code",
   "execution_count": 17,
   "metadata": {},
   "outputs": [
    {
     "data": {
      "text/html": [
       "<div>\n",
       "<style scoped>\n",
       "    .dataframe tbody tr th:only-of-type {\n",
       "        vertical-align: middle;\n",
       "    }\n",
       "\n",
       "    .dataframe tbody tr th {\n",
       "        vertical-align: top;\n",
       "    }\n",
       "\n",
       "    .dataframe thead th {\n",
       "        text-align: right;\n",
       "    }\n",
       "</style>\n",
       "<table border=\"1\" class=\"dataframe\">\n",
       "  <thead>\n",
       "    <tr style=\"text-align: right;\">\n",
       "      <th></th>\n",
       "      <th>tvBench_id</th>\n",
       "      <th>db_id</th>\n",
       "      <th>chart</th>\n",
       "      <th>hardness</th>\n",
       "      <th>query</th>\n",
       "      <th>question</th>\n",
       "      <th>mentioned_columns</th>\n",
       "      <th>mentioned_values</th>\n",
       "      <th>query_template</th>\n",
       "      <th>source</th>\n",
       "      <th>labels</th>\n",
       "      <th>token_types</th>\n",
       "    </tr>\n",
       "  </thead>\n",
       "  <tbody>\n",
       "    <tr>\n",
       "      <th>0</th>\n",
       "      <td>3087@y_name@ASC</td>\n",
       "      <td>university_basketball</td>\n",
       "      <td>Stacked Bar</td>\n",
       "      <td>Medium</td>\n",
       "      <td>Visualize BAR SELECT All_Home , School_ID FROM...</td>\n",
       "      <td>Visualize a bar chart about the distribution o...</td>\n",
       "      <td>basketball_match all_home</td>\n",
       "      <td>NaN</td>\n",
       "      <td>visualize bar select [x], [agg(y)] from basket...</td>\n",
       "      <td>&lt;nl&gt; Visualize a bar chart about the distribut...</td>\n",
       "      <td>Visualize BAR SELECT All_Home , School_ID FROM...</td>\n",
       "      <td>nl nl nl nl nl nl nl nl nl nl nl nl nl nl nl n...</td>\n",
       "    </tr>\n",
       "    <tr>\n",
       "      <th>1</th>\n",
       "      <td>2439@y_name@ASC</td>\n",
       "      <td>music_4</td>\n",
       "      <td>Bar</td>\n",
       "      <td>Hard</td>\n",
       "      <td>Visualize BAR SELECT Category , COUNT(Category...</td>\n",
       "      <td>Return the number of the categories of music f...</td>\n",
       "      <td>music_festival result music_festival</td>\n",
       "      <td>Awarded</td>\n",
       "      <td>visualize [c] select [x], [agg(y)] from music_...</td>\n",
       "      <td>&lt;nl&gt; Return the number of the categories of mu...</td>\n",
       "      <td>Visualize BAR SELECT Category , COUNT(Category...</td>\n",
       "      <td>nl nl nl nl nl nl nl nl nl nl nl nl nl nl nl n...</td>\n",
       "    </tr>\n",
       "    <tr>\n",
       "      <th>2</th>\n",
       "      <td>1383</td>\n",
       "      <td>farm</td>\n",
       "      <td>Pie</td>\n",
       "      <td>Easy</td>\n",
       "      <td>Visualize PIE SELECT Status , avg(Population) ...</td>\n",
       "      <td>I want to know the proportion of the average p...</td>\n",
       "      <td>city status population</td>\n",
       "      <td>NaN</td>\n",
       "      <td>visualize [c] select [x], [agg(y)] from city w...</td>\n",
       "      <td>&lt;nl&gt; I want to know the proportion of the aver...</td>\n",
       "      <td>Visualize PIE SELECT Status , avg(Population) ...</td>\n",
       "      <td>nl nl nl nl nl nl nl nl nl nl nl nl nl nl nl n...</td>\n",
       "    </tr>\n",
       "    <tr>\n",
       "      <th>3</th>\n",
       "      <td>776@x_name@DESC</td>\n",
       "      <td>cre_Doc_Tracking_DB</td>\n",
       "      <td>Grouping Line</td>\n",
       "      <td>Extra Hard</td>\n",
       "      <td>Visualize LINE SELECT Date_in_Location_From , ...</td>\n",
       "      <td>Give me line charts of worldwide gross the num...</td>\n",
       "      <td>document_locations location_code</td>\n",
       "      <td>b e n</td>\n",
       "      <td>visualize [c] select [x], [agg(y)] from docume...</td>\n",
       "      <td>&lt;nl&gt; Give me line charts of worldwide gross th...</td>\n",
       "      <td>Visualize LINE SELECT Date_in_Location_From , ...</td>\n",
       "      <td>nl nl nl nl nl nl nl nl nl nl nl nl nl nl nl n...</td>\n",
       "    </tr>\n",
       "    <tr>\n",
       "      <th>4</th>\n",
       "      <td>1589@y_name@ASC</td>\n",
       "      <td>hr_1</td>\n",
       "      <td>Bar</td>\n",
       "      <td>Extra Hard</td>\n",
       "      <td>Visualize BAR SELECT HIRE_DATE , AVG(DEPARTMEN...</td>\n",
       "      <td>For those employees whose salary is in the ran...</td>\n",
       "      <td>employees hire_date salary department_id last_...</td>\n",
       "      <td>Bull Fox Lisa Chen Lee Gee Banda King Ande Bel...</td>\n",
       "      <td>visualize bar select [x], [agg(y)] from employ...</td>\n",
       "      <td>&lt;nl&gt; For those employees whose salary is in th...</td>\n",
       "      <td>Visualize BAR SELECT HIRE_DATE , AVG(DEPARTMEN...</td>\n",
       "      <td>nl nl nl nl nl nl nl nl nl nl nl nl nl nl nl n...</td>\n",
       "    </tr>\n",
       "  </tbody>\n",
       "</table>\n",
       "</div>"
      ],
      "text/plain": [
       "        tvBench_id                  db_id          chart    hardness  \\\n",
       "0  3087@y_name@ASC  university_basketball    Stacked Bar      Medium   \n",
       "1  2439@y_name@ASC                music_4            Bar        Hard   \n",
       "2             1383                   farm            Pie        Easy   \n",
       "3  776@x_name@DESC    cre_Doc_Tracking_DB  Grouping Line  Extra Hard   \n",
       "4  1589@y_name@ASC                   hr_1            Bar  Extra Hard   \n",
       "\n",
       "                                               query  \\\n",
       "0  Visualize BAR SELECT All_Home , School_ID FROM...   \n",
       "1  Visualize BAR SELECT Category , COUNT(Category...   \n",
       "2  Visualize PIE SELECT Status , avg(Population) ...   \n",
       "3  Visualize LINE SELECT Date_in_Location_From , ...   \n",
       "4  Visualize BAR SELECT HIRE_DATE , AVG(DEPARTMEN...   \n",
       "\n",
       "                                            question  \\\n",
       "0  Visualize a bar chart about the distribution o...   \n",
       "1  Return the number of the categories of music f...   \n",
       "2  I want to know the proportion of the average p...   \n",
       "3  Give me line charts of worldwide gross the num...   \n",
       "4  For those employees whose salary is in the ran...   \n",
       "\n",
       "                                   mentioned_columns  \\\n",
       "0                          basketball_match all_home   \n",
       "1               music_festival result music_festival   \n",
       "2                             city status population   \n",
       "3                   document_locations location_code   \n",
       "4  employees hire_date salary department_id last_...   \n",
       "\n",
       "                                    mentioned_values  \\\n",
       "0                                                NaN   \n",
       "1                                            Awarded   \n",
       "2                                                NaN   \n",
       "3                                              b e n   \n",
       "4  Bull Fox Lisa Chen Lee Gee Banda King Ande Bel...   \n",
       "\n",
       "                                      query_template  \\\n",
       "0  visualize bar select [x], [agg(y)] from basket...   \n",
       "1  visualize [c] select [x], [agg(y)] from music_...   \n",
       "2  visualize [c] select [x], [agg(y)] from city w...   \n",
       "3  visualize [c] select [x], [agg(y)] from docume...   \n",
       "4  visualize bar select [x], [agg(y)] from employ...   \n",
       "\n",
       "                                              source  \\\n",
       "0  <nl> Visualize a bar chart about the distribut...   \n",
       "1  <nl> Return the number of the categories of mu...   \n",
       "2  <nl> I want to know the proportion of the aver...   \n",
       "3  <nl> Give me line charts of worldwide gross th...   \n",
       "4  <nl> For those employees whose salary is in th...   \n",
       "\n",
       "                                              labels  \\\n",
       "0  Visualize BAR SELECT All_Home , School_ID FROM...   \n",
       "1  Visualize BAR SELECT Category , COUNT(Category...   \n",
       "2  Visualize PIE SELECT Status , avg(Population) ...   \n",
       "3  Visualize LINE SELECT Date_in_Location_From , ...   \n",
       "4  Visualize BAR SELECT HIRE_DATE , AVG(DEPARTMEN...   \n",
       "\n",
       "                                         token_types  \n",
       "0  nl nl nl nl nl nl nl nl nl nl nl nl nl nl nl n...  \n",
       "1  nl nl nl nl nl nl nl nl nl nl nl nl nl nl nl n...  \n",
       "2  nl nl nl nl nl nl nl nl nl nl nl nl nl nl nl n...  \n",
       "3  nl nl nl nl nl nl nl nl nl nl nl nl nl nl nl n...  \n",
       "4  nl nl nl nl nl nl nl nl nl nl nl nl nl nl nl n...  "
      ]
     },
     "execution_count": 17,
     "metadata": {},
     "output_type": "execute_result"
    }
   ],
   "source": [
    "test_df.head()"
   ]
  },
  {
   "cell_type": "code",
   "execution_count": 21,
   "metadata": {},
   "outputs": [
    {
     "name": "stdout",
     "output_type": "stream",
     "text": [
      "=========================================================\n",
      "\n",
      "[Database]: university_basketball\n",
      "[NL Question]: Visualize a bar chart about the distribution of All_Home and School_ID , and group by attribute ACC_Road , order in asc by the y axis .\n",
      "[Chart Template]: visualize bar select [x], [agg(y)] from basketball_match where [w] group by [y] bin [x] by [i] order by [y] asc\n",
      "[Predicted VIS Query]: visualize bar select all_home , school_id from basketball_match group by acc_road , all_home order by school_id asc\n",
      "[The Ground Truth VIS Query]: Visualize BAR SELECT All_Home , School_ID FROM basketball_match GROUP BY ACC_Road ,  All_Home ORDER BY School_ID ASC\n",
      "The Predicted VIS:\n"
     ]
    },
    {
     "data": {
      "application/vnd.vegalite.v4+json": {
       "data": {
        "values": [
         {
          "all_home": "14–2",
          "school_id": 1
         },
         {
          "all_home": "15–1",
          "school_id": 2
         },
         {
          "all_home": "14–2",
          "school_id": 4
         },
         {
          "all_home": "14–3",
          "school_id": 5
         }
        ]
       },
       "encoding": {
        "x": {
         "field": "all_home",
         "sort": "y",
         "type": "nominal"
        },
        "y": {
         "field": "school_id",
         "type": "quantitative"
        }
       },
       "mark": "bar"
      },
      "image/png": "[encoded data removed]"
     },
     "metadata": {},
     "output_type": "display_data"
    },
    {
     "name": "stdout",
     "output_type": "stream",
     "text": [
      "\n",
      "\n",
      "=========================================================\n",
      "\n",
      "[Database]: music_4\n",
      "[NL Question]: Return the number of the categories of music festivals that have the result \"Awarded\" , show from low to high by the y axis .\n",
      "[Chart Template]: visualize [c] select [x], [agg(y)] from music_festival where [w] group by [xy] bin [x] by [i] order by [xy] [t]\n",
      "[Predicted VIS Query]: visualize bar select category , count(category) from music_festival where result = 'awarded' group by category order by count(category) asc\n",
      "[The Ground Truth VIS Query]: Visualize BAR SELECT Category , COUNT(Category) FROM music_festival WHERE RESULT = \"Awarded\" GROUP BY Category ORDER BY COUNT(Category) ASC\n",
      "The Predicted VIS:\n"
     ]
    },
    {
     "data": {
      "application/vnd.vegalite.v4+json": {
       "data": {
        "values": [
         {
          "category": "Best Sound Song",
          "count(category)": 1
         },
         {
          "category": "Best Song",
          "count(category)": 2
         }
        ]
       },
       "encoding": {
        "x": {
         "field": "category",
         "sort": "y",
         "type": "nominal"
        },
        "y": {
         "field": "count(category)",
         "type": "quantitative"
        }
       },
       "mark": "bar"
      },
      "image/png": "[encoded data removed]"
     },
     "metadata": {},
     "output_type": "display_data"
    },
    {
     "name": "stdout",
     "output_type": "stream",
     "text": [
      "\n",
      "\n",
      "=========================================================\n",
      "\n",
      "[Database]: farm\n",
      "[NL Question]: I want to know the proportion of the average population for each status .\n",
      "[Chart Template]: visualize [c] select [x], [agg(y)] from city where [w] group by [xy] bin [x] by [i] order by [xy] [t]\n",
      "[Predicted VIS Query]: visualize pie select status , avg(population) from city group by status\n",
      "[The Ground Truth VIS Query]: Visualize PIE SELECT Status , avg(Population) FROM city GROUP BY Status\n",
      "The Predicted VIS:\n"
     ]
    },
    {
     "data": {
      "application/vnd.vegalite.v4+json": {
       "data": {
        "values": [
         {
          "avg(population)": 5706,
          "status": "Town"
         },
         {
          "avg(population)": 1009.75,
          "status": "Village"
         }
        ]
       },
       "encoding": {
        "color": {
         "field": "status",
         "type": "nominal"
        },
        "theta": {
         "field": "avg(population)",
         "type": "quantitative"
        }
       },
       "mark": "arc"
      },
      "image/png": "[encoded data removed]"
     },
     "metadata": {},
     "output_type": "display_data"
    },
    {
     "name": "stdout",
     "output_type": "stream",
     "text": [
      "\n",
      "\n",
      "=========================================================\n",
      "\n",
      "[Database]: hr_1\n",
      "[NL Question]: For those employees whose salary is in the range of 8000 and 12000 and commission is not null or department number does not equal to 40 , show me about the distribution of hire_date and the average of department_id bin hire_date by time in a bar chart , and rank in ascending by the Y .\n",
      "[Chart Template]: visualize bar select [x], [agg(y)] from employees where [w] group by [y] bin [x] by [i] order by [y] asc\n",
      "[Predicted VIS Query]: visualize bar select hire_date , avg(department_id) from employees where salary between 8000 and 12000 and commission_pct != 'null' or department_id != 40 order by avg(department_id) asc bin hire_date by month\n",
      "[The Ground Truth VIS Query]: Visualize BAR SELECT HIRE_DATE , AVG(DEPARTMENT_ID) FROM employees WHERE salary BETWEEN 8000 AND 12000 AND commission_pct != \"null\" OR department_id != 40  ORDER BY AVG(DEPARTMENT_ID) ASC BIN HIRE_DATE BY MONTH\n",
      "The Predicted VIS:\n"
     ]
    },
    {
     "data": {
      "application/vnd.vegalite.v4+json": {
       "data": {
        "values": [
         {
          "avg(department_id)": 62.8301886792,
          "hire_date": "1987-06-17"
         }
        ]
       },
       "encoding": {
        "x": {
         "field": "hire_date",
         "sort": "y",
         "type": "nominal"
        },
        "y": {
         "field": "avg(department_id)",
         "type": "quantitative"
        }
       },
       "mark": "bar"
      },
      "image/png": "[encoded data removed]"
     },
     "metadata": {},
     "output_type": "display_data"
    },
    {
     "name": "stdout",
     "output_type": "stream",
     "text": [
      "\n",
      "\n",
      "=========================================================\n",
      "\n",
      "[Database]: company_1\n",
      "[NL Question]: Find the number of employees of each gender whose salary is lower than 50000 . Show a pie chart .\n",
      "[Chart Template]: visualize [c] select [x], [agg(y)] from employee where [w] group by [xy] bin [x] by [i] order by [xy] [t]\n",
      "[Predicted VIS Query]: visualize pie select sex , count(*) from employee where salary < 50000 group by sex\n",
      "[The Ground Truth VIS Query]: Visualize PIE SELECT Sex , count(*) FROM employee WHERE salary < 50000 GROUP BY sex\n",
      "The Predicted VIS:\n"
     ]
    },
    {
     "data": {
      "application/vnd.vegalite.v4+json": {
       "data": {
        "values": [
         {
          "count(*)": 3,
          "sex": "F"
         },
         {
          "count(*)": 4,
          "sex": "M"
         }
        ]
       },
       "encoding": {
        "color": {
         "field": "sex",
         "type": "nominal"
        },
        "theta": {
         "field": "count(*)",
         "type": "quantitative"
        }
       },
       "mark": "arc"
      },
      "image/png": "[encoded data removed]"
     },
     "metadata": {},
     "output_type": "display_data"
    },
    {
     "name": "stdout",
     "output_type": "stream",
     "text": [
      "\n",
      "\n",
      "=========================================================\n",
      "\n",
      "[Database]: college_1\n",
      "[NL Question]: What is the average student GPA for every department ? Return a bar chart .\n",
      "[Chart Template]: visualize [c] select [x], [agg(y)] from student where [w] group by [xy] bin [x] by [i] order by [xy] [t]\n",
      "[Predicted VIS Query]: visualize bar select dept_code , avg(stu_gpa) from student group by dept_code\n",
      "[The Ground Truth VIS Query]: Visualize BAR SELECT DEPT_CODE , avg(stu_gpa) FROM student GROUP BY dept_code\n",
      "The Predicted VIS:\n"
     ]
    },
    {
     "data": {
      "application/vnd.vegalite.v4+json": {
       "data": {
        "values": [
         {
          "avg(stu_gpa)": 2.7766666667,
          "dept_code": "ACCT"
         },
         {
          "avg(stu_gpa)": 2.84,
          "dept_code": "BIOL"
         },
         {
          "avg(stu_gpa)": 3.18,
          "dept_code": "CIS"
         },
         {
          "avg(stu_gpa)": 3.87,
          "dept_code": "EDU"
         },
         {
          "avg(stu_gpa)": 2.11,
          "dept_code": "ENGL"
         }
        ]
       },
       "encoding": {
        "x": {
         "field": "dept_code",
         "sort": "y",
         "type": "nominal"
        },
        "y": {
         "field": "avg(stu_gpa)",
         "type": "quantitative"
        }
       },
       "mark": "bar"
      },
      "image/png": "[encoded data removed]"
     },
     "metadata": {},
     "output_type": "display_data"
    },
    {
     "name": "stdout",
     "output_type": "stream",
     "text": [
      "\n",
      "\n",
      "=========================================================\n",
      "\n",
      "[Database]: allergy_1\n",
      "[NL Question]: Give the proportion of what are the allergy types and how many allergies correspond to each one ?\n",
      "[Chart Template]: visualize pie select [x], [agg(y)] from [d] where [w] group by [xy] bin [x] by [i] order by [xy] [t]\n",
      "[Predicted VIS Query]: visualize pie select allergytype , count(*) from allergy_type group by allergytype\n",
      "[The Ground Truth VIS Query]: Visualize PIE SELECT AllergyType , count(*) FROM Allergy_type GROUP BY allergytype\n",
      "The Predicted VIS:\n"
     ]
    },
    {
     "data": {
      "application/vnd.vegalite.v4+json": {
       "data": {
        "values": [
         {
          "allergytype": "animal",
          "count(*)": 4
         },
         {
          "allergytype": "environmental",
          "count(*)": 3
         },
         {
          "allergytype": "food",
          "count(*)": 7
         }
        ]
       },
       "encoding": {
        "color": {
         "field": "allergytype",
         "type": "nominal"
        },
        "theta": {
         "field": "count(*)",
         "type": "quantitative"
        }
       },
       "mark": "arc"
      },
      "image/png": "[encoded data removed]"
     },
     "metadata": {},
     "output_type": "display_data"
    },
    {
     "name": "stdout",
     "output_type": "stream",
     "text": [
      "\n",
      "\n",
      "=========================================================\n",
      "\n",
      "[Database]: swimming\n",
      "[NL Question]: Return a bar chart about the distribution of Time and meter_100 , order Y from low to high order .\n",
      "[Chart Template]: visualize bar select [x], [agg(y)] from swimmer where [w] group by [y] bin [x] by [i] order by [y] asc\n",
      "[Predicted VIS Query]: visualize bar select time , meter_100 from swimmer order by meter_100 asc\n",
      "[The Ground Truth VIS Query]: Visualize BAR SELECT Time , meter_100 FROM swimmer ORDER BY meter_100 ASC\n",
      "The Predicted VIS:\n"
     ]
    },
    {
     "data": {
      "application/vnd.vegalite.v4+json": {
       "data": {
        "values": [
         {
          "meter_100": 55.67,
          "time": "7:52.04"
         },
         {
          "meter_100": 57.31,
          "time": "7:47.91"
         },
         {
          "meter_100": 57.31,
          "time": "7:46.95"
         },
         {
          "meter_100": 57.34,
          "time": "7:53.43"
         },
         {
          "meter_100": 57.34,
          "time": "7:55.39"
         },
         {
          "meter_100": 57.35,
          "time": "7:48.67"
         },
         {
          "meter_100": 57.66,
          "time": "7:49.98"
         },
         {
          "meter_100": 57.84,
          "time": "7:56.56"
         }
        ]
       },
       "encoding": {
        "x": {
         "field": "time",
         "sort": "y",
         "type": "nominal"
        },
        "y": {
         "field": "meter_100",
         "type": "quantitative"
        }
       },
       "mark": "bar"
      },
      "image/png": "[encoded data removed]"
     },
     "metadata": {},
     "output_type": "display_data"
    },
    {
     "name": "stdout",
     "output_type": "stream",
     "text": [
      "\n",
      "\n",
      "=========================================================\n",
      "\n",
      "[Database]: swimming\n",
      "[NL Question]: Give me the comparison about ID over the name , could you show by the ID in descending please ?\n",
      "[Chart Template]: visualize bar select [x], [agg(y)] from swimmer where [w] group by [y] bin [x] by [i] order by [y] desc\n",
      "[Predicted VIS Query]: visualize bar select name , id from swimmer order by id desc\n",
      "[The Ground Truth VIS Query]: Visualize BAR SELECT name , ID FROM swimmer ORDER BY ID DESC\n",
      "The Predicted VIS:\n"
     ]
    },
    {
     "data": {
      "application/vnd.vegalite.v4+json": {
       "data": {
        "values": [
         {
          "id": 8,
          "name": "Sébastien Rouault"
         },
         {
          "id": 7,
          "name": "Przemysław Stańczyk"
         },
         {
          "id": 6,
          "name": "Ryan Cochrane"
         },
         {
          "id": 5,
          "name": "Federico Colbertaldo"
         },
         {
          "id": 4,
          "name": "Craig Stevens"
         },
         {
          "id": 3,
          "name": "Oussama Mellouli"
         },
         {
          "id": 2,
          "name": "Grant Hackett"
         },
         {
          "id": 1,
          "name": "Sergiy Fesenko"
         }
        ]
       },
       "encoding": {
        "x": {
         "field": "name",
         "sort": "-y",
         "type": "nominal"
        },
        "y": {
         "field": "id",
         "type": "quantitative"
        }
       },
       "mark": "bar"
      },
      "image/png": "[encoded data removed]"
     },
     "metadata": {},
     "output_type": "display_data"
    },
    {
     "name": "stdout",
     "output_type": "stream",
     "text": [
      "\n",
      "\n",
      "=========================================================\n",
      "\n",
      "[Database]: tracking_grants_for_research\n",
      "[NL Question]: Give me the trend about the date_from attributes of all researchers , and bin the date into Year interval .\n",
      "[Chart Template]: visualize line select [x], [agg(y)] from [d] where [w] group by [xy] bin [x] by [i] order by [xy] [t]\n",
      "[Predicted VIS Query]: visualize line select date_from , count(date_from) from project_staff bin date_from by year\n",
      "[The Ground Truth VIS Query]: Visualize LINE SELECT date_from , COUNT(date_from) FROM Project_Staff BIN date_from BY YEAR\n",
      "The Predicted VIS:\n"
     ]
    },
    {
     "data": {
      "application/vnd.vegalite.v4+json": {
       "data": {
        "values": [
         {
          "count(date_from)": 15,
          "date_from": "1981-10-04 22:44:50"
         }
        ]
       },
       "encoding": {
        "x": {
         "field": "date_from",
         "sort": "x",
         "type": "nominal"
        },
        "y": {
         "field": "count(date_from)",
         "type": "quantitative"
        }
       },
       "mark": "line"
      },
      "image/png": "[encoded data removed]"
     },
     "metadata": {},
     "output_type": "display_data"
    },
    {
     "name": "stdout",
     "output_type": "stream",
     "text": [
      "\n",
      "\n",
      "=========================================================\n",
      "\n",
      "[Database]: hr_1\n",
      "[NL Question]: For those employees who do not work in departments with managers that have ids between 100 and 200 , show me about the distribution of last_name and salary in a bar chart , and could you order in descending by the bar please ?\n",
      "[Chart Template]: visualize bar select [x], [agg(y)] from employees where [w] group by [x] bin [x] by [i] order by [x] desc\n",
      "[Predicted VIS Query]: visualize bar select last_name , salary from employees where department_id not in (select department_id from departments where manager_id between 100 and 200) order by last_name desc\n",
      "[The Ground Truth VIS Query]: Visualize BAR SELECT LAST_NAME , SALARY FROM employees WHERE department_id NOT IN (SELECT department_id FROM departments WHERE manager_id BETWEEN 100 AND 200) ORDER BY LAST_NAME DESC\n",
      "The Predicted VIS:\n"
     ]
    },
    {
     "data": {
      "application/vnd.vegalite.v4+json": {
       "data": {
        "values": [
         {
          "last_name": "Mavris",
          "salary": 6500
         },
         {
          "last_name": "Higgins",
          "salary": 12000
         },
         {
          "last_name": "Hartstein",
          "salary": 13000
         },
         {
          "last_name": "Grant",
          "salary": 7000
         },
         {
          "last_name": "Gietz",
          "salary": 8300
         },
         {
          "last_name": "Fay",
          "salary": 6000
         },
         {
          "last_name": "Baer",
          "salary": 10000
         }
        ]
       },
       "encoding": {
        "x": {
         "field": "last_name",
         "sort": "-x",
         "type": "nominal"
        },
        "y": {
         "field": "salary",
         "type": "quantitative"
        }
       },
       "mark": "bar"
      },
      "image/png": "[encoded data removed]"
     },
     "metadata": {},
     "output_type": "display_data"
    },
    {
     "name": "stdout",
     "output_type": "stream",
     "text": [
      "\n",
      "\n",
      "=========================================================\n",
      "\n",
      "[Database]: hr_1\n",
      "[NL Question]: For all employees who have the letters D or S in their first name , return a bar chart about the distribution of hire_date and the average of employee_id bin hire_date by time , and sort by the y axis in ascending .\n",
      "[Chart Template]: visualize [c] select [x], [agg(y)] from employees where [w] group by [xy] bin [x] by [i] order by [xy] [t]\n",
      "[Predicted VIS Query]: visualize bar select hire_date , avg(employee_id) from employees where first_name like '%d%' or first_name like '%s%' order by avg(employee_id) asc bin hire_date by month\n",
      "[The Ground Truth VIS Query]: Visualize BAR SELECT HIRE_DATE , AVG(EMPLOYEE_ID) FROM employees WHERE first_name LIKE '%D%' OR first_name LIKE '%S%'  ORDER BY AVG(EMPLOYEE_ID) ASC BIN HIRE_DATE BY MONTH\n",
      "The Predicted VIS:\n"
     ]
    },
    {
     "data": {
      "application/vnd.vegalite.v4+json": {
       "data": {
        "values": [
         {
          "avg(employee_id)": 149.7708333333,
          "hire_date": "1987-06-17"
         }
        ]
       },
       "encoding": {
        "x": {
         "field": "hire_date",
         "sort": "y",
         "type": "nominal"
        },
        "y": {
         "field": "avg(employee_id)",
         "type": "quantitative"
        }
       },
       "mark": "bar"
      },
      "image/png": "[encoded data removed]"
     },
     "metadata": {},
     "output_type": "display_data"
    },
    {
     "name": "stdout",
     "output_type": "stream",
     "text": [
      "\n",
      "\n",
      "=========================================================\n",
      "\n",
      "[Database]: sports_competition\n",
      "[NL Question]: List the types of competition and the number of competitions of each type by a pie chart .\n",
      "[Chart Template]: visualize [c] select [x], [agg(y)] from competition where [w] group by [xy] bin [x] by [i] order by [xy] [t]\n",
      "[Predicted VIS Query]: visualize pie select competition_type , count(*) from competition group by competition_type\n",
      "[The Ground Truth VIS Query]: Visualize PIE SELECT Competition_type , COUNT(*) FROM competition GROUP BY Competition_type\n",
      "The Predicted VIS:\n"
     ]
    },
    {
     "data": {
      "application/vnd.vegalite.v4+json": {
       "data": {
        "values": [
         {
          "competition_type": "Friendly",
          "count(*)": 8
         },
         {
          "competition_type": "Tournament",
          "count(*)": 3
         }
        ]
       },
       "encoding": {
        "color": {
         "field": "competition_type",
         "type": "nominal"
        },
        "theta": {
         "field": "count(*)",
         "type": "quantitative"
        }
       },
       "mark": "arc"
      },
      "image/png": "[encoded data removed]"
     },
     "metadata": {},
     "output_type": "display_data"
    },
    {
     "name": "stdout",
     "output_type": "stream",
     "text": [
      "\n",
      "\n",
      "=========================================================\n",
      "\n",
      "[Database]: candidate_poll\n",
      "[NL Question]: Visualize a bar chart about the distribution of Date_of_Birth and Weight , and I want to list y axis in asc order .\n",
      "[Chart Template]: visualize [c] select [x], [agg(y)] from people where [w] group by [xy] bin [x] by [i] order by [xy] [t]\n",
      "[Predicted VIS Query]: visualize bar select date_of_birth , weight from people order by weight asc\n",
      "[The Ground Truth VIS Query]: Visualize BAR SELECT Date_of_Birth , Weight FROM people ORDER BY Weight ASC\n",
      "The Predicted VIS:\n"
     ]
    },
    {
     "data": {
      "application/vnd.vegalite.v4+json": {
       "data": {
        "values": [
         {
          "date_of_birth": "28.09.1981",
          "weight": 82
         },
         {
          "date_of_birth": "06.10.1976",
          "weight": 83
         },
         {
          "date_of_birth": "10.11.1972",
          "weight": 85
         },
         {
          "date_of_birth": "01.09.1977",
          "weight": 88
         },
         {
          "date_of_birth": "22.04.1977",
          "weight": 88
         },
         {
          "date_of_birth": "20.08.1970",
          "weight": 89
         },
         {
          "date_of_birth": "10.03.1976",
          "weight": 90
         },
         {
          "date_of_birth": "05.05.1972",
          "weight": 92
         },
         {
          "date_of_birth": "03.02.1976",
          "weight": 94
         }
        ]
       },
       "encoding": {
        "x": {
         "field": "date_of_birth",
         "sort": "y",
         "type": "nominal"
        },
        "y": {
         "field": "weight",
         "type": "quantitative"
        }
       },
       "mark": "bar"
      },
      "image/png": "[encoded data removed]"
     },
     "metadata": {},
     "output_type": "display_data"
    },
    {
     "name": "stdout",
     "output_type": "stream",
     "text": [
      "\n",
      "\n",
      "=========================================================\n",
      "\n",
      "[Database]: apartment_rentals\n",
      "[NL Question]: Show the apartment type codes and the corresponding number of apartments sorted by the number of apartments in ascending order . Show bar chart .\n",
      "[Chart Template]: visualize [c] select [x], [agg(y)] from apartments where [w] group by [xy] bin [x] by [i] order by [xy] [t]\n",
      "[Predicted VIS Query]: visualize bar select apt_type_code , count(*) from apartments group by apt_type_code order by count(*) asc\n",
      "[The Ground Truth VIS Query]: Visualize BAR SELECT apt_type_code , COUNT(*) FROM Apartments GROUP BY apt_type_code ORDER BY COUNT(*) ASC\n",
      "The Predicted VIS:\n"
     ]
    },
    {
     "data": {
      "application/vnd.vegalite.v4+json": {
       "data": {
        "values": [
         {
          "apt_type_code": "Studio",
          "count(*)": 4
         },
         {
          "apt_type_code": "Duplex",
          "count(*)": 5
         },
         {
          "apt_type_code": "Flat",
          "count(*)": 6
         }
        ]
       },
       "encoding": {
        "x": {
         "field": "apt_type_code",
         "sort": "y",
         "type": "nominal"
        },
        "y": {
         "field": "count(*)",
         "type": "quantitative"
        }
       },
       "mark": "bar"
      },
      "image/png": "[encoded data removed]"
     },
     "metadata": {},
     "output_type": "display_data"
    },
    {
     "name": "stdout",
     "output_type": "stream",
     "text": [
      "\n",
      "\n",
      "=========================================================\n",
      "\n",
      "[Database]: cre_Doc_Tracking_DB\n",
      "[NL Question]: What is the code of each location and the number of documents in that location . Visualize by pie chart .\n",
      "[Chart Template]: visualize pie select [x], [agg(y)] from [d] where [w] group by [xy] bin [x] by [i] order by [xy] [t]\n",
      "[Predicted VIS Query]: visualize pie select location_code , count(*) from document_locations group by location_code\n",
      "[The Ground Truth VIS Query]: Visualize PIE SELECT Location_Code , count(*) FROM Document_locations GROUP BY location_code\n",
      "The Predicted VIS:\n"
     ]
    },
    {
     "data": {
      "application/vnd.vegalite.v4+json": {
       "data": {
        "values": [
         {
          "count(*)": 3,
          "location_code": "b"
         },
         {
          "count(*)": 2,
          "location_code": "c"
         },
         {
          "count(*)": 4,
          "location_code": "e"
         },
         {
          "count(*)": 1,
          "location_code": "n"
         },
         {
          "count(*)": 5,
          "location_code": "x"
         }
        ]
       },
       "encoding": {
        "color": {
         "field": "location_code",
         "type": "nominal"
        },
        "theta": {
         "field": "count(*)",
         "type": "quantitative"
        }
       },
       "mark": "arc"
      },
      "image/png": "[encoded data removed]"
     },
     "metadata": {},
     "output_type": "display_data"
    },
    {
     "name": "stdout",
     "output_type": "stream",
     "text": [
      "\n",
      "\n",
      "=========================================================\n",
      "\n",
      "[Database]: hr_1\n",
      "[NL Question]: For those employees who do not work in departments with managers that have ids between 100 and 200 , return a line chart about the change of department_id over hire_date .\n",
      "[Chart Template]: visualize line select [x], [agg(y)] from [d] where [w] group by [xy] bin [x] by [i] order by [xy] [t]\n",
      "[Predicted VIS Query]: visualize line select hire_date , department_id from employees where department_id not in (select department_id from departments where manager_id between 100 and 200)\n",
      "[The Ground Truth VIS Query]: Visualize LINE SELECT HIRE_DATE , DEPARTMENT_ID FROM employees WHERE department_id NOT IN (SELECT department_id FROM departments WHERE manager_id BETWEEN 100 AND 200)\n",
      "The Predicted VIS:\n"
     ]
    },
    {
     "data": {
      "application/vnd.vegalite.v4+json": {
       "data": {
        "values": [
         {
          "department_id": 0,
          "hire_date": "1987-09-03"
         },
         {
          "department_id": 20,
          "hire_date": "1987-09-26"
         },
         {
          "department_id": 20,
          "hire_date": "1987-09-27"
         },
         {
          "department_id": 40,
          "hire_date": "1987-09-28"
         },
         {
          "department_id": 70,
          "hire_date": "1987-09-29"
         },
         {
          "department_id": 110,
          "hire_date": "1987-09-30"
         },
         {
          "department_id": 110,
          "hire_date": "1987-10-01"
         }
        ]
       },
       "encoding": {
        "x": {
         "field": "hire_date",
         "sort": "x",
         "type": "nominal"
        },
        "y": {
         "field": "department_id",
         "type": "quantitative"
        }
       },
       "mark": "line"
      },
      "image/png": "[encoded data removed]"
     },
     "metadata": {},
     "output_type": "display_data"
    },
    {
     "name": "stdout",
     "output_type": "stream",
     "text": [
      "\n",
      "\n",
      "=========================================================\n",
      "\n",
      "[Database]: hr_1\n",
      "[NL Question]: For those employees whose salary is in the range of 8000 and 12000 and commission is not null or department number does not equal to 40 , a bar chart shows the distribution of hire_date and the average of department_id bin hire_date by time .\n",
      "[Chart Template]: visualize bar select [x], [agg(y)] from [d] where [w] group by [xy] bin [x] by [i] order by [xy] [t]\n",
      "[Predicted VIS Query]: visualize bar select hire_date , avg(department_id) from employees where salary between 8000 and 12000 and commission_pct != 'null' or department_id != 40 bin hire_date by month\n",
      "[The Ground Truth VIS Query]: Visualize BAR SELECT HIRE_DATE , AVG(DEPARTMENT_ID) FROM employees WHERE salary BETWEEN 8000 AND 12000 AND commission_pct != \"null\" OR department_id != 40 BIN HIRE_DATE BY MONTH\n",
      "The Predicted VIS:\n"
     ]
    },
    {
     "data": {
      "application/vnd.vegalite.v4+json": {
       "data": {
        "values": [
         {
          "avg(department_id)": 62.8301886792,
          "hire_date": "1987-06-17"
         }
        ]
       },
       "encoding": {
        "x": {
         "field": "hire_date",
         "sort": "y",
         "type": "nominal"
        },
        "y": {
         "field": "avg(department_id)",
         "type": "quantitative"
        }
       },
       "mark": "bar"
      },
      "image/png": "[encoded data removed]"
     },
     "metadata": {},
     "output_type": "display_data"
    },
    {
     "name": "stdout",
     "output_type": "stream",
     "text": [
      "\n",
      "\n",
      "=========================================================\n",
      "\n",
      "[Database]: employee_hire_evaluation\n",
      "[NL Question]: Return a bar chart about the distribution of Start_from and the amount of Start_from bin start_from by weekday .\n",
      "[Chart Template]: visualize bar select [x], [agg(y)] from [d] where [w] group by [xy] bin [x] by [i] order by [xy] [t]\n",
      "[Predicted VIS Query]: visualize bar select start_from , count(start_from) from hiring bin start_from by weekday\n",
      "[The Ground Truth VIS Query]: Visualize BAR SELECT Start_from , COUNT(Start_from) FROM hiring BIN Start_from BY WEEKDAY\n",
      "The Predicted VIS:\n"
     ]
    },
    {
     "data": {
      "application/vnd.vegalite.v4+json": {
       "data": {
        "values": [
         {
          "count(start_from)": 7,
          "start_from": "2009"
         }
        ]
       },
       "encoding": {
        "x": {
         "field": "start_from",
         "sort": "y",
         "type": "nominal"
        },
        "y": {
         "field": "count(start_from)",
         "type": "quantitative"
        }
       },
       "mark": "bar"
      },
      "image/png": "[encoded data removed]"
     },
     "metadata": {},
     "output_type": "display_data"
    },
    {
     "name": "stdout",
     "output_type": "stream",
     "text": [
      "\n",
      "\n",
      "=========================================================\n",
      "\n",
      "[Database]: train_station\n",
      "[NL Question]: Show all locations and the total number of platforms for all train stations in each location in a pie chart .\n",
      "[Chart Template]: visualize [c] select [x], [agg(y)] from station where [w] group by [xy] bin [x] by [i] order by [xy] [t]\n",
      "[Predicted VIS Query]: visualize pie select location , sum(number_of_platforms) from station group by location\n",
      "[The Ground Truth VIS Query]: Visualize PIE SELECT Location , sum(number_of_platforms) FROM station GROUP BY LOCATION\n",
      "The Predicted VIS:\n"
     ]
    },
    {
     "data": {
      "application/vnd.vegalite.v4+json": {
       "data": {
        "values": [
         {
          "location": "Birmingham",
          "sum(number_of_platforms)": 13
         },
         {
          "location": "Glasgow",
          "sum(number_of_platforms)": 17
         },
         {
          "location": "London",
          "sum(number_of_platforms)": 140
         }
        ]
       },
       "encoding": {
        "color": {
         "field": "location",
         "type": "nominal"
        },
        "theta": {
         "field": "sum(number_of_platforms)",
         "type": "quantitative"
        }
       },
       "mark": "arc"
      },
      "image/png": "[encoded data removed]"
     },
     "metadata": {},
     "output_type": "display_data"
    },
    {
     "name": "stdout",
     "output_type": "stream",
     "text": [
      "\n",
      "\n",
      "=========================================================\n",
      "\n",
      "[Database]: local_govt_and_lot\n",
      "[NL Question]: Group and count the move in date in a bar chart , and I want to bin the X into Year interval , and rank by the the number of date moved in in asc .\n",
      "[Chart Template]: visualize [c] select [x], [agg(y)] from customer_events where [w] group by [xy] bin [x] by [i] order by [xy] [t]\n",
      "[Predicted VIS Query]: visualize bar select date_moved_in , count(date_moved_in) from customer_events order by count(date_moved_in) asc bin date_moved_in by year\n",
      "[The Ground Truth VIS Query]: Visualize BAR SELECT date_moved_in , COUNT(date_moved_in) FROM customer_events  ORDER BY COUNT(date_moved_in) ASC BIN date_moved_in BY YEAR\n",
      "The Predicted VIS:\n"
     ]
    },
    {
     "data": {
      "application/vnd.vegalite.v4+json": {
       "data": {
        "values": [
         {
          "count(date_moved_in)": 13,
          "date_moved_in": "2015-03-27 12:00:00"
         }
        ]
       },
       "encoding": {
        "x": {
         "field": "date_moved_in",
         "sort": "y",
         "type": "nominal"
        },
        "y": {
         "field": "count(date_moved_in)",
         "type": "quantitative"
        }
       },
       "mark": "bar"
      },
      "image/png": "[encoded data removed]"
     },
     "metadata": {},
     "output_type": "display_data"
    },
    {
     "name": "stdout",
     "output_type": "stream",
     "text": [
      "\n",
      "\n",
      "=========================================================\n",
      "\n",
      "[Database]: station_weather\n",
      "[NL Question]: Find the number of trains starting from each origin Plot them as bar chart , I want to rank in descending by the the total number .\n",
      "[Chart Template]: visualize [c] select [x], [agg(y)] from train where [w] group by [xy] bin [x] by [i] order by [xy] [t]\n",
      "[Predicted VIS Query]: visualize bar select origin , count(*) from train group by origin order by count(*) desc\n",
      "[The Ground Truth VIS Query]: Visualize BAR SELECT origin , count(*) FROM train GROUP BY origin ORDER BY count(*) DESC\n",
      "The Predicted VIS:\n"
     ]
    },
    {
     "data": {
      "application/vnd.vegalite.v4+json": {
       "data": {
        "values": [
         {
          "count(*)": 2,
          "origin": "Kanniyakumari"
         },
         {
          "count(*)": 2,
          "origin": "Chennai"
         },
         {
          "count(*)": 1,
          "origin": "Trivandrum"
         },
         {
          "count(*)": 1,
          "origin": "Quilon"
         },
         {
          "count(*)": 1,
          "origin": "Nagercoil"
         },
         {
          "count(*)": 1,
          "origin": "Mumbai"
         },
         {
          "count(*)": 1,
          "origin": "Madurai"
         },
         {
          "count(*)": 1,
          "origin": "Guruvayur"
         },
         {
          "count(*)": 1,
          "origin": "Bangalore"
         }
        ]
       },
       "encoding": {
        "x": {
         "field": "origin",
         "sort": "-y",
         "type": "nominal"
        },
        "y": {
         "field": "count(*)",
         "type": "quantitative"
        }
       },
       "mark": "bar"
      },
      "image/png": "[encoded data removed]"
     },
     "metadata": {},
     "output_type": "display_data"
    },
    {
     "name": "stdout",
     "output_type": "stream",
     "text": [
      "\n",
      "\n",
      "=========================================================\n",
      "\n",
      "[Database]: employee_hire_evaluation\n",
      "[NL Question]: Draw a bar chart about the distribution of Start_from and the amount of Start_from , and group by attribute Is_full_time and bin start_from by weekday .\n",
      "[Chart Template]: visualize [c] select [x], [agg(y)] from hiring where [w] group by [xy] bin [x] by [i] order by [xy] [t]\n",
      "[Predicted VIS Query]: visualize bar select start_from , count(start_from) from hiring group by is_full_time bin start_from by weekday\n",
      "[The Ground Truth VIS Query]: Visualize BAR SELECT Start_from , COUNT(Start_from) FROM hiring GROUP BY Is_full_time BIN Start_from BY WEEKDAY\n",
      "The Predicted VIS:\n"
     ]
    },
    {
     "data": {
      "application/vnd.vegalite.v4+json": {
       "data": {
        "values": [
         {
          "count(start_from)": 2,
          "start_from": "2011"
         },
         {
          "count(start_from)": 5,
          "start_from": "2009"
         }
        ]
       },
       "encoding": {
        "x": {
         "field": "start_from",
         "sort": "y",
         "type": "nominal"
        },
        "y": {
         "field": "count(start_from)",
         "type": "quantitative"
        }
       },
       "mark": "bar"
      },
      "image/png": "[encoded data removed]"
     },
     "metadata": {},
     "output_type": "display_data"
    },
    {
     "name": "stdout",
     "output_type": "stream",
     "text": [
      "\n",
      "\n",
      "=========================================================\n",
      "\n",
      "[Database]: hr_1\n",
      "[NL Question]: For all employees who have the letters D or S in their first name , show me about the distribution of job_id and the average of manager_id , and group by attribute job_id in a bar chart , rank bar from low to high order .\n",
      "[Chart Template]: visualize bar select [x], [agg(y)] from employees where [w] group by [x] bin [x] by [i] order by [x] asc\n",
      "[Predicted VIS Query]: visualize bar select job_id , avg(manager_id) from employees where first_name like '%d%' or first_name like '%s%' group by job_id order by job_id asc\n",
      "[The Ground Truth VIS Query]: Visualize BAR SELECT JOB_ID , AVG(MANAGER_ID) FROM employees WHERE first_name LIKE '%D%' OR first_name LIKE '%S%' GROUP BY JOB_ID ORDER BY JOB_ID ASC\n",
      "The Predicted VIS:\n"
     ]
    },
    {
     "data": {
      "application/vnd.vegalite.v4+json": {
       "data": {
        "values": [
         {
          "avg(manager_id)": 101,
          "job_id": "AC_MGR"
         },
         {
          "avg(manager_id)": 0,
          "job_id": "AD_PRES"
         },
         {
          "avg(manager_id)": 108,
          "job_id": "FI_ACCOUNT"
         },
         {
          "avg(manager_id)": 101,
          "job_id": "HR_REP"
         },
         {
          "avg(manager_id)": 102.6666666667,
          "job_id": "IT_PROG"
         },
         {
          "avg(manager_id)": 114,
          "job_id": "PU_CLERK"
         },
         {
          "avg(manager_id)": 100,
          "job_id": "PU_MAN"
         },
         {
          "avg(manager_id)": 100,
          "job_id": "SA_MAN"
         },
         {
          "avg(manager_id)": 147,
          "job_id": "SA_REP"
         },
         {
          "avg(manager_id)": 122,
          "job_id": "SH_CLERK"
         },
         {
          "avg(manager_id)": 122.2222222222,
          "job_id": "ST_CLERK"
         },
         {
          "avg(manager_id)": 100,
          "job_id": "ST_MAN"
         }
        ]
       },
       "encoding": {
        "x": {
         "field": "job_id",
         "sort": "x",
         "type": "nominal"
        },
        "y": {
         "field": "avg(manager_id)",
         "type": "quantitative"
        }
       },
       "mark": "bar"
      },
      "image/png": "[encoded data removed]"
     },
     "metadata": {},
     "output_type": "display_data"
    },
    {
     "name": "stdout",
     "output_type": "stream",
     "text": [
      "\n",
      "\n",
      "=========================================================\n",
      "\n",
      "[Database]: culture_company\n",
      "[NL Question]: How many books fall into each category , and rank y-axis in desc order .\n",
      "[Chart Template]: visualize bar select [x], [agg(y)] from book_club where [w] group by [y] bin [x] by [i] order by [y] desc\n",
      "[Predicted VIS Query]: visualize bar select category , count(*) from book_club group by category order by count(*) desc\n",
      "[The Ground Truth VIS Query]: Visualize BAR SELECT Category , count(*) FROM book_club GROUP BY category ORDER BY count(*) DESC\n",
      "The Predicted VIS:\n"
     ]
    },
    {
     "data": {
      "application/vnd.vegalite.v4+json": {
       "data": {
        "values": [
         {
          "category": "Lesb. M/SF",
          "count(*)": 5
         },
         {
          "category": "Gay M/SF",
          "count(*)": 5
         },
         {
          "category": "Gay SF/F",
          "count(*)": 2
         }
        ]
       },
       "encoding": {
        "x": {
         "field": "category",
         "sort": "-y",
         "type": "nominal"
        },
        "y": {
         "field": "count(*)",
         "type": "quantitative"
        }
       },
       "mark": "bar"
      },
      "image/png": "[encoded data removed]"
     },
     "metadata": {},
     "output_type": "display_data"
    },
    {
     "name": "stdout",
     "output_type": "stream",
     "text": [
      "\n",
      "\n",
      "=========================================================\n",
      "\n",
      "[Database]: hr_1\n",
      "[NL Question]: For those employees whose salary is in the range of 8000 and 12000 and commission is not null or department number does not equal to 40 , return a scatter chart about the correlation between salary and department_id .\n",
      "[Chart Template]: visualize scatter select [x], [agg(y)] from [d] where [w] group by [xy] bin [x] by [i] order by [xy] [t]\n",
      "[Predicted VIS Query]: visualize scatter select salary , department_id from employees where salary between 8000 and 12000 and commission_pct != 'null' or department_id != 40\n",
      "[The Ground Truth VIS Query]: Visualize SCATTER SELECT SALARY , DEPARTMENT_ID FROM employees WHERE salary BETWEEN 8000 AND 12000 AND commission_pct != \"null\" OR department_id != 40\n",
      "The Predicted VIS:\n"
     ]
    },
    {
     "data": {
      "application/vnd.vegalite.v4+json": {
       "data": {
        "values": [
         {
          "department_id": 90,
          "salary": 24000
         },
         {
          "department_id": 90,
          "salary": 17000
         },
         {
          "department_id": 90,
          "salary": 17000
         },
         {
          "department_id": 60,
          "salary": 9000
         },
         {
          "department_id": 60,
          "salary": 6000
         },
         {
          "department_id": 60,
          "salary": 4800
         },
         {
          "department_id": 60,
          "salary": 4800
         },
         {
          "department_id": 60,
          "salary": 4200
         },
         {
          "department_id": 100,
          "salary": 12000
         },
         {
          "department_id": 100,
          "salary": 9000
         },
         {
          "department_id": 100,
          "salary": 8200
         },
         {
          "department_id": 100,
          "salary": 7700
         },
         {
          "department_id": 100,
          "salary": 7800
         },
         {
          "department_id": 100,
          "salary": 6900
         },
         {
          "department_id": 30,
          "salary": 11000
         },
         {
          "department_id": 30,
          "salary": 3100
         },
         {
          "department_id": 30,
          "salary": 2900
         },
         {
          "department_id": 30,
          "salary": 2800
         },
         {
          "department_id": 30,
          "salary": 2600
         },
         {
          "department_id": 30,
          "salary": 2500
         },
         {
          "department_id": 50,
          "salary": 8000
         },
         {
          "department_id": 50,
          "salary": 8200
         },
         {
          "department_id": 50,
          "salary": 7900
         },
         {
          "department_id": 50,
          "salary": 6500
         },
         {
          "department_id": 50,
          "salary": 5800
         },
         {
          "department_id": 50,
          "salary": 3200
         },
         {
          "department_id": 50,
          "salary": 2700
         },
         {
          "department_id": 50,
          "salary": 2400
         },
         {
          "department_id": 50,
          "salary": 2200
         },
         {
          "department_id": 50,
          "salary": 3300
         },
         {
          "department_id": 50,
          "salary": 2800
         },
         {
          "department_id": 50,
          "salary": 2500
         },
         {
          "department_id": 50,
          "salary": 2100
         },
         {
          "department_id": 50,
          "salary": 3300
         },
         {
          "department_id": 50,
          "salary": 2900
         },
         {
          "department_id": 50,
          "salary": 2400
         },
         {
          "department_id": 50,
          "salary": 2200
         },
         {
          "department_id": 50,
          "salary": 3600
         },
         {
          "department_id": 50,
          "salary": 3200
         },
         {
          "department_id": 50,
          "salary": 2700
         },
         {
          "department_id": 50,
          "salary": 2500
         },
         {
          "department_id": 50,
          "salary": 3500
         },
         {
          "department_id": 50,
          "salary": 3100
         },
         {
          "department_id": 50,
          "salary": 2600
         },
         {
          "department_id": 50,
          "salary": 2500
         },
         {
          "department_id": 80,
          "salary": 14000
         },
         {
          "department_id": 80,
          "salary": 13500
         },
         {
          "department_id": 80,
          "salary": 12000
         },
         {
          "department_id": 80,
          "salary": 11000
         },
         {
          "department_id": 80,
          "salary": 10500
         },
         {
          "department_id": 80,
          "salary": 10000
         },
         {
          "department_id": 80,
          "salary": 9500
         },
         {
          "department_id": 80,
          "salary": 9000
         },
         {
          "department_id": 80,
          "salary": 8000
         },
         {
          "department_id": 80,
          "salary": 7500
         },
         {
          "department_id": 80,
          "salary": 7000
         },
         {
          "department_id": 80,
          "salary": 10000
         },
         {
          "department_id": 80,
          "salary": 9500
         },
         {
          "department_id": 80,
          "salary": 9000
         },
         {
          "department_id": 80,
          "salary": 8000
         },
         {
          "department_id": 80,
          "salary": 7500
         },
         {
          "department_id": 80,
          "salary": 7000
         },
         {
          "department_id": 80,
          "salary": 10500
         },
         {
          "department_id": 80,
          "salary": 9500
         },
         {
          "department_id": 80,
          "salary": 7200
         },
         {
          "department_id": 80,
          "salary": 6800
         },
         {
          "department_id": 80,
          "salary": 6400
         },
         {
          "department_id": 80,
          "salary": 6200
         },
         {
          "department_id": 80,
          "salary": 11500
         },
         {
          "department_id": 80,
          "salary": 10000
         },
         {
          "department_id": 80,
          "salary": 9600
         },
         {
          "department_id": 80,
          "salary": 7400
         },
         {
          "department_id": 80,
          "salary": 7300
         },
         {
          "department_id": 80,
          "salary": 6100
         },
         {
          "department_id": 80,
          "salary": 11000
         },
         {
          "department_id": 80,
          "salary": 8800
         },
         {
          "department_id": 80,
          "salary": 8600
         },
         {
          "department_id": 80,
          "salary": 8400
         },
         {
          "department_id": 0,
          "salary": 7000
         },
         {
          "department_id": 80,
          "salary": 6200
         },
         {
          "department_id": 50,
          "salary": 3200
         },
         {
          "department_id": 50,
          "salary": 3100
         },
         {
          "department_id": 50,
          "salary": 2500
         },
         {
          "department_id": 50,
          "salary": 2800
         },
         {
          "department_id": 50,
          "salary": 4200
         },
         {
          "department_id": 50,
          "salary": 4100
         },
         {
          "department_id": 50,
          "salary": 3400
         },
         {
          "department_id": 50,
          "salary": 3000
         },
         {
          "department_id": 50,
          "salary": 3800
         },
         {
          "department_id": 50,
          "salary": 3600
         },
         {
          "department_id": 50,
          "salary": 2900
         },
         {
          "department_id": 50,
          "salary": 2500
         },
         {
          "department_id": 50,
          "salary": 4000
         },
         {
          "department_id": 50,
          "salary": 3900
         },
         {
          "department_id": 50,
          "salary": 3200
         },
         {
          "department_id": 50,
          "salary": 2800
         },
         {
          "department_id": 50,
          "salary": 3100
         },
         {
          "department_id": 50,
          "salary": 3000
         },
         {
          "department_id": 50,
          "salary": 2600
         },
         {
          "department_id": 50,
          "salary": 2600
         },
         {
          "department_id": 10,
          "salary": 4400
         },
         {
          "department_id": 20,
          "salary": 13000
         },
         {
          "department_id": 20,
          "salary": 6000
         },
         {
          "department_id": 70,
          "salary": 10000
         },
         {
          "department_id": 110,
          "salary": 12000
         },
         {
          "department_id": 110,
          "salary": 8300
         }
        ]
       },
       "encoding": {
        "x": {
         "field": "salary",
         "sort": "x",
         "type": "nominal"
        },
        "y": {
         "field": "department_id",
         "type": "quantitative"
        }
       },
       "mark": "point"
      },
      "image/png": "[encoded data removed]"
     },
     "metadata": {},
     "output_type": "display_data"
    },
    {
     "name": "stdout",
     "output_type": "stream",
     "text": [
      "\n",
      "\n",
      "=========================================================\n",
      "\n",
      "[Database]: hr_1\n",
      "[NL Question]: For those employees whose salary is in the range of 8000 and 12000 and commission is not null or department number does not equal to 40 , return a bar chart about the distribution of hire_date and the amount of hire_date bin hire_date by weekday , and I want to order in descending by the y axis .\n",
      "[Chart Template]: visualize bar select [x], [agg(y)] from employees where [w] group by [y] bin [x] by [i] order by [y] desc\n",
      "[Predicted VIS Query]: visualize bar select hire_date , count(hire_date) from employees where salary between 8000 and 12000 and commission_pct != 'null' or department_id != 40 order by count(hire_date) desc bin hire_date by weekday\n",
      "[The Ground Truth VIS Query]: Visualize BAR SELECT HIRE_DATE , COUNT(HIRE_DATE) FROM employees WHERE salary BETWEEN 8000 AND 12000 AND commission_pct != \"null\" OR department_id != 40  ORDER BY COUNT(HIRE_DATE) DESC BIN HIRE_DATE BY WEEKDAY\n",
      "The Predicted VIS:\n"
     ]
    },
    {
     "data": {
      "application/vnd.vegalite.v4+json": {
       "data": {
        "values": [
         {
          "count(hire_date)": 106,
          "hire_date": "1987-06-17"
         }
        ]
       },
       "encoding": {
        "x": {
         "field": "hire_date",
         "sort": "-y",
         "type": "nominal"
        },
        "y": {
         "field": "count(hire_date)",
         "type": "quantitative"
        }
       },
       "mark": "bar"
      },
      "image/png": "[encoded data removed]"
     },
     "metadata": {},
     "output_type": "display_data"
    },
    {
     "name": "stdout",
     "output_type": "stream",
     "text": [
      "\n",
      "\n",
      "=========================================================\n",
      "\n",
      "[Database]: hr_1\n",
      "[NL Question]: For those employees who was hired before 2002-06-21 , give me the comparison about the sum of department_id over the job_id , and group by attribute job_id , could you sort in asc by the y axis ?\n",
      "[Chart Template]: visualize [c] select [x], [agg(y)] from employees where [w] group by [xy] bin [x] by [i] order by [xy] [t]\n",
      "[Predicted VIS Query]: visualize bar select job_id , sum(department_id) from employees where hire_date < '2002-06-21' group by job_id order by sum(department_id) asc\n",
      "[The Ground Truth VIS Query]: Visualize BAR SELECT JOB_ID , SUM(DEPARTMENT_ID) FROM employees WHERE hire_date < '2002-06-21' GROUP BY JOB_ID ORDER BY SUM(DEPARTMENT_ID) ASC\n",
      "The Predicted VIS:\n"
     ]
    },
    {
     "data": {
      "application/vnd.vegalite.v4+json": {
       "data": {
        "values": [
         {
          "job_id": "AD_ASST",
          "sum(department_id)": 10
         },
         {
          "job_id": "MK_MAN",
          "sum(department_id)": 20
         },
         {
          "job_id": "MK_REP",
          "sum(department_id)": 20
         },
         {
          "job_id": "PU_MAN",
          "sum(department_id)": 30
         },
         {
          "job_id": "HR_REP",
          "sum(department_id)": 40
         },
         {
          "job_id": "PR_REP",
          "sum(department_id)": 70
         },
         {
          "job_id": "AD_PRES",
          "sum(department_id)": 90
         },
         {
          "job_id": "FI_MGR",
          "sum(department_id)": 100
         },
         {
          "job_id": "AC_ACCOUNT",
          "sum(department_id)": 110
         },
         {
          "job_id": "AC_MGR",
          "sum(department_id)": 110
         },
         {
          "job_id": "PU_CLERK",
          "sum(department_id)": 150
         },
         {
          "job_id": "AD_VP",
          "sum(department_id)": 180
         },
         {
          "job_id": "ST_MAN",
          "sum(department_id)": 250
         },
         {
          "job_id": "IT_PROG",
          "sum(department_id)": 300
         },
         {
          "job_id": "SA_MAN",
          "sum(department_id)": 400
         },
         {
          "job_id": "FI_ACCOUNT",
          "sum(department_id)": 500
         },
         {
          "job_id": "SH_CLERK",
          "sum(department_id)": 1000
         },
         {
          "job_id": "ST_CLERK",
          "sum(department_id)": 1000
         },
         {
          "job_id": "SA_REP",
          "sum(department_id)": 2320
         }
        ]
       },
       "encoding": {
        "x": {
         "field": "job_id",
         "sort": "y",
         "type": "nominal"
        },
        "y": {
         "field": "sum(department_id)",
         "type": "quantitative"
        }
       },
       "mark": "bar"
      },
      "image/png": "[encoded data removed]"
     },
     "metadata": {},
     "output_type": "display_data"
    },
    {
     "name": "stdout",
     "output_type": "stream",
     "text": [
      "\n",
      "\n",
      "=========================================================\n",
      "\n",
      "[Database]: cre_Drama_Workshop_Groups\n",
      "[NL Question]: Show me a bar chart for what are the different product names ? What is the average product price for each of them ?\n",
      "[Chart Template]: visualize bar select [x], [agg(y)] from [d] where [w] group by [xy] bin [x] by [i] order by [xy] [t]\n",
      "[Predicted VIS Query]: visualize bar select product_name , avg(product_price) from products group by product_name\n",
      "[The Ground Truth VIS Query]: Visualize BAR SELECT Product_Name , avg(Product_Price) FROM PRODUCTS GROUP BY Product_Name\n",
      "The Predicted VIS:\n"
     ]
    },
    {
     "data": {
      "application/vnd.vegalite.v4+json": {
       "data": {
        "values": [
         {
          "avg(product_price)": 238704.3333333333,
          "product_name": "dinning"
         },
         {
          "avg(product_price)": 11385515.333333334,
          "product_name": "film"
         },
         {
          "avg(product_price)": 5102691.666666667,
          "product_name": "photo"
         }
        ]
       },
       "encoding": {
        "x": {
         "field": "product_name",
         "sort": "y",
         "type": "nominal"
        },
        "y": {
         "field": "avg(product_price)",
         "type": "quantitative"
        }
       },
       "mark": "bar"
      },
      "image/png": "[encoded data removed]"
     },
     "metadata": {},
     "output_type": "display_data"
    },
    {
     "name": "stdout",
     "output_type": "stream",
     "text": [
      "\n",
      "\n",
      "=========================================================\n",
      "\n",
      "[Database]: university_basketball\n",
      "[NL Question]: School_ID across all road attribute in a pie chart .\n",
      "[Chart Template]: visualize [c] select [x], [agg(y)] from basketball_match where [w] group by [xy] bin [x] by [i] order by [xy] [t]\n",
      "[Predicted VIS Query]: visualize pie select all_road , school_id from basketball_match\n",
      "[The Ground Truth VIS Query]: Visualize PIE SELECT All_Road , School_ID FROM basketball_match\n",
      "The Predicted VIS:\n"
     ]
    },
    {
     "data": {
      "application/vnd.vegalite.v4+json": {
       "data": {
        "values": [
         {
          "all_road": "13–0",
          "school_id": 1
         },
         {
          "all_road": "8–2",
          "school_id": 2
         },
         {
          "all_road": "6–5",
          "school_id": 4
         },
         {
          "all_road": "4–8",
          "school_id": 5
         }
        ]
       },
       "encoding": {
        "color": {
         "field": "all_road",
         "type": "nominal"
        },
        "theta": {
         "field": "school_id",
         "type": "quantitative"
        }
       },
       "mark": "arc"
      },
      "image/png": "[encoded data removed]"
     },
     "metadata": {},
     "output_type": "display_data"
    },
    {
     "name": "stdout",
     "output_type": "stream",
     "text": [
      "\n",
      "\n",
      "=========================================================\n",
      "\n",
      "[Database]: program_share\n",
      "[NL Question]: Return a pie chart on what is the total rating of channel for each channel owner ?\n",
      "[Chart Template]: visualize pie select [x], [agg(y)] from [d] where [w] group by [xy] bin [x] by [i] order by [xy] [t]\n",
      "[Predicted VIS Query]: visualize pie select owner , sum(rating_in_percent) from channel group by owner\n",
      "[The Ground Truth VIS Query]: Visualize PIE SELECT Owner , sum(Rating_in_percent) FROM channel GROUP BY OWNER\n",
      "The Predicted VIS:\n"
     ]
    },
    {
     "data": {
      "application/vnd.vegalite.v4+json": {
       "data": {
        "values": [
         {
          "owner": "Anhui Television",
          "sum(rating_in_percent)": 0.2
         },
         {
          "owner": "CCTV",
          "sum(rating_in_percent)": 2.43
         },
         {
          "owner": "HBS",
          "sum(rating_in_percent)": 0.53
         },
         {
          "owner": "Shandong Television",
          "sum(rating_in_percent)": 0.19
         }
        ]
       },
       "encoding": {
        "color": {
         "field": "owner",
         "type": "nominal"
        },
        "theta": {
         "field": "sum(rating_in_percent)",
         "type": "quantitative"
        }
       },
       "mark": "arc"
      },
      "image/png": "[encoded data removed]"
     },
     "metadata": {},
     "output_type": "display_data"
    },
    {
     "name": "stdout",
     "output_type": "stream",
     "text": [
      "\n",
      "\n",
      "=========================================================\n",
      "\n",
      "[Database]: store_1\n",
      "[NL Question]: List the number of the name of all playlist , display by the x-axis from high to low please .\n",
      "[Chart Template]: visualize bar select [x], [agg(y)] from playlists where [w] group by [x] bin [x] by [i] order by [x] desc\n",
      "[Predicted VIS Query]: visualize bar select name , count(name) from playlists group by name order by name desc\n",
      "[The Ground Truth VIS Query]: Visualize BAR SELECT name , COUNT(name) FROM playlists GROUP BY name ORDER BY name DESC\n",
      "The Predicted VIS:\n"
     ]
    },
    {
     "data": {
      "application/vnd.vegalite.v4+json": {
       "data": {
        "values": [
         {
          "count(name)": 2,
          "name": "TV Shows"
         },
         {
          "count(name)": 1,
          "name": "On-The-Go 1"
         },
         {
          "count(name)": 1,
          "name": "Music Videos"
         },
         {
          "count(name)": 2,
          "name": "Music"
         },
         {
          "count(name)": 2,
          "name": "Movies"
         },
         {
          "count(name)": 1,
          "name": "Heavy Metal Classic"
         },
         {
          "count(name)": 1,
          "name": "Grunge"
         },
         {
          "count(name)": 1,
          "name": "Classical 101 - The Basics"
         },
         {
          "count(name)": 1,
          "name": "Classical 101 - Next Steps"
         },
         {
          "count(name)": 1,
          "name": "Classical 101 - Deep Cuts"
         },
         {
          "count(name)": 1,
          "name": "Classical"
         },
         {
          "count(name)": 1,
          "name": "Brazilian Music"
         },
         {
          "count(name)": 2,
          "name": "Audiobooks"
         },
         {
          "count(name)": 1,
          "name": "90’s Music"
         }
        ]
       },
       "encoding": {
        "x": {
         "field": "name",
         "sort": "-x",
         "type": "nominal"
        },
        "y": {
         "field": "count(name)",
         "type": "quantitative"
        }
       },
       "mark": "bar"
      },
      "image/png": "[encoded data removed]"
     },
     "metadata": {},
     "output_type": "display_data"
    },
    {
     "name": "stdout",
     "output_type": "stream",
     "text": [
      "\n",
      "\n",
      "=========================================================\n",
      "\n",
      "[Database]: theme_gallery\n",
      "[NL Question]: Give a bar chart that bins year into weekday interval , group by year and count them , and I want to sort in asc by the Y-axis .\n",
      "[Chart Template]: visualize bar select [x], [agg(y)] from exhibition where [w] group by [y] bin [x] by [i] order by [y] asc\n",
      "[Predicted VIS Query]: visualize bar select year , count(year) from exhibition order by count(year) asc bin year by weekday\n",
      "[The Ground Truth VIS Query]: Visualize BAR SELECT Year , COUNT(Year) FROM exhibition  ORDER BY COUNT(Year) ASC BIN Year BY WEEKDAY\n",
      "The Predicted VIS:\n"
     ]
    },
    {
     "data": {
      "application/vnd.vegalite.v4+json": {
       "data": {
        "values": [
         {
          "count(year)": 6,
          "year": 2004
         }
        ]
       },
       "encoding": {
        "x": {
         "field": "year",
         "sort": "y",
         "type": "nominal"
        },
        "y": {
         "field": "count(year)",
         "type": "quantitative"
        }
       },
       "mark": "bar"
      },
      "image/png": "[encoded data removed]"
     },
     "metadata": {},
     "output_type": "display_data"
    },
    {
     "name": "stdout",
     "output_type": "stream",
     "text": [
      "\n",
      "\n",
      "=========================================================\n",
      "\n",
      "[Database]: bike_1\n",
      "[NL Question]: Bin the installation date into the day of week interval , and then you can draw a bar chart to tell me how many stations each year , sort from low to high by the y axis please .\n",
      "[Chart Template]: visualize [c] select [x], [agg(y)] from station where [w] group by [xy] bin [x] by [i] order by [xy] [t]\n",
      "[Predicted VIS Query]: visualize bar select installation_date , count(installation_date) from station order by count(installation_date) asc bin installation_date by weekday\n",
      "[The Ground Truth VIS Query]: Visualize BAR SELECT installation_date , COUNT(installation_date) FROM station  ORDER BY COUNT(installation_date) ASC BIN installation_date BY WEEKDAY\n",
      "The Predicted VIS:\n"
     ]
    },
    {
     "data": {
      "application/vnd.vegalite.v4+json": {
       "data": {
        "values": [
         {
          "count(installation_date)": 70,
          "installation_date": "8/6/2013"
         }
        ]
       },
       "encoding": {
        "x": {
         "field": "installation_date",
         "sort": "y",
         "type": "nominal"
        },
        "y": {
         "field": "count(installation_date)",
         "type": "quantitative"
        }
       },
       "mark": "bar"
      },
      "image/png": "[encoded data removed]"
     },
     "metadata": {},
     "output_type": "display_data"
    },
    {
     "name": "stdout",
     "output_type": "stream",
     "text": [
      "\n",
      "\n",
      "=========================================================\n",
      "\n",
      "[Database]: tvshow\n",
      "[NL Question]: What are the package options of all tv channels that are not playing any cartoons directed by Ben Jones , and count them by a bar chart , rank how many package option in desc order .\n",
      "[Chart Template]: visualize [c] select [x], [agg(y)] from tv_channel where [w] group by [xy] bin [x] by [i] order by [xy] [t]\n",
      "[Predicted VIS Query]: visualize bar select package_option , count(package_option) from tv_channel where id not in (select channel from cartoon where directed_by = 'ben jones') group by package_option order by count(package_option) desc\n",
      "[The Ground Truth VIS Query]: Visualize BAR SELECT Package_Option , COUNT(Package_Option) FROM TV_Channel WHERE id NOT IN (SELECT channel FROM cartoon WHERE directed_by = 'Ben Jones') GROUP BY Package_Option ORDER BY COUNT(Package_Option) DESC\n",
      "The Predicted VIS:\n"
     ]
    },
    {
     "data": {
      "application/vnd.vegalite.v4+json": {
       "data": {
        "values": [
         {
          "count(package_option)": 11,
          "package_option": "Sky Famiglia"
         },
         {
          "count(package_option)": 2,
          "package_option": "no ( FTV )"
         },
         {
          "count(package_option)": 1,
          "package_option": "Sky Famiglia + Sky HD"
         },
         {
          "count(package_option)": 1,
          "package_option": "Option"
         }
        ]
       },
       "encoding": {
        "x": {
         "field": "package_option",
         "sort": "-y",
         "type": "nominal"
        },
        "y": {
         "field": "count(package_option)",
         "type": "quantitative"
        }
       },
       "mark": "bar"
      },
      "image/png": "[encoded data removed]"
     },
     "metadata": {},
     "output_type": "display_data"
    },
    {
     "name": "stdout",
     "output_type": "stream",
     "text": [
      "\n",
      "\n",
      "=========================================================\n",
      "\n",
      "[Database]: university_basketball\n",
      "[NL Question]: Draw a bar chart about the distribution of ACC_Road and the sum of School_ID , and group by attribute ACC_Road , and I want to rank from high to low by the Y .\n",
      "[Chart Template]: visualize bar select [x], [agg(y)] from basketball_match where [w] group by [y] bin [x] by [i] order by [y] desc\n",
      "[Predicted VIS Query]: visualize bar select acc_road , sum(school_id) from basketball_match group by acc_road order by sum(school_id) desc\n",
      "[The Ground Truth VIS Query]: Visualize BAR SELECT ACC_Road , SUM(School_ID) FROM basketball_match GROUP BY ACC_Road ORDER BY SUM(School_ID) DESC\n",
      "The Predicted VIS:\n"
     ]
    },
    {
     "data": {
      "application/vnd.vegalite.v4+json": {
       "data": {
        "values": [
         {
          "acc_road": "3–5",
          "sum(school_id)": 9
         },
         {
          "acc_road": "6–2",
          "sum(school_id)": 2
         },
         {
          "acc_road": "8–0",
          "sum(school_id)": 1
         }
        ]
       },
       "encoding": {
        "x": {
         "field": "acc_road",
         "sort": "-y",
         "type": "nominal"
        },
        "y": {
         "field": "sum(school_id)",
         "type": "quantitative"
        }
       },
       "mark": "bar"
      },
      "image/png": "[encoded data removed]"
     },
     "metadata": {},
     "output_type": "display_data"
    },
    {
     "name": "stdout",
     "output_type": "stream",
     "text": [
      "\n",
      "\n",
      "=========================================================\n",
      "\n",
      "[Database]: inn_1\n",
      "[NL Question]: Show the minimum of the rooms in different decor using a bar chart , order by the y-axis from low to high .\n",
      "[Chart Template]: visualize bar select [x], [agg(y)] from rooms where [w] group by [y] bin [x] by [i] order by [y] asc\n",
      "[Predicted VIS Query]: visualize bar select decor , min(baseprice) from rooms group by decor order by min(baseprice) asc\n",
      "[The Ground Truth VIS Query]: Visualize BAR SELECT decor , min(basePrice) FROM Rooms GROUP BY decor ORDER BY min(basePrice) ASC\n",
      "The Predicted VIS:\n"
     ]
    },
    {
     "data": {
      "application/vnd.vegalite.v4+json": {
       "data": {
        "values": [
         {
          "decor": "modern",
          "min(baseprice)": 75
         },
         {
          "decor": "rustic",
          "min(baseprice)": 150
         },
         {
          "decor": "traditional",
          "min(baseprice)": 150
         }
        ]
       },
       "encoding": {
        "x": {
         "field": "decor",
         "sort": "y",
         "type": "nominal"
        },
        "y": {
         "field": "min(baseprice)",
         "type": "quantitative"
        }
       },
       "mark": "bar"
      },
      "image/png": "[encoded data removed]"
     },
     "metadata": {},
     "output_type": "display_data"
    },
    {
     "name": "stdout",
     "output_type": "stream",
     "text": [
      "\n",
      "\n",
      "=========================================================\n",
      "\n",
      "[Database]: hr_1\n",
      "[NL Question]: For those employees who do not work in departments with managers that have ids between 100 and 200 , give me the comparison about salary over the email , and display y-axis in ascending order .\n",
      "[Chart Template]: visualize [c] select [x], [agg(y)] from employees where [w] group by [xy] bin [x] by [i] order by [xy] [t]\n",
      "[Predicted VIS Query]: visualize bar select email , salary from employees where department_id not in (select department_id from departments where manager_id between 100 and 200) order by salary asc\n",
      "[The Ground Truth VIS Query]: Visualize BAR SELECT EMAIL , SALARY FROM employees WHERE department_id NOT IN (SELECT department_id FROM departments WHERE manager_id BETWEEN 100 AND 200) ORDER BY SALARY ASC\n",
      "The Predicted VIS:\n"
     ]
    },
    {
     "data": {
      "application/vnd.vegalite.v4+json": {
       "data": {
        "values": [
         {
          "email": "PFAY",
          "salary": 6000
         },
         {
          "email": "SMAVRIS",
          "salary": 6500
         },
         {
          "email": "KGRANT",
          "salary": 7000
         },
         {
          "email": "WGIETZ",
          "salary": 8300
         },
         {
          "email": "HBAER",
          "salary": 10000
         },
         {
          "email": "SHIGGINS",
          "salary": 12000
         },
         {
          "email": "MHARTSTE",
          "salary": 13000
         }
        ]
       },
       "encoding": {
        "x": {
         "field": "email",
         "sort": "y",
         "type": "nominal"
        },
        "y": {
         "field": "salary",
         "type": "quantitative"
        }
       },
       "mark": "bar"
      },
      "image/png": "[encoded data removed]"
     },
     "metadata": {},
     "output_type": "display_data"
    },
    {
     "name": "stdout",
     "output_type": "stream",
     "text": [
      "\n",
      "\n",
      "=========================================================\n",
      "\n",
      "[Database]: race_track\n",
      "[NL Question]: Show me how many in each class of all races using a bar chart , and sort by the the number of class in ascending .\n",
      "[Chart Template]: visualize bar select [x], [agg(y)] from race where [w] group by [y] bin [x] by [i] order by [y] asc\n",
      "[Predicted VIS Query]: visualize bar select class , count(class) from race group by class order by count(class) asc\n",
      "[The Ground Truth VIS Query]: Visualize BAR SELECT Class , COUNT(Class) FROM race GROUP BY Class ORDER BY COUNT(Class) ASC\n",
      "The Predicted VIS:\n"
     ]
    },
    {
     "data": {
      "application/vnd.vegalite.v4+json": {
       "data": {
        "values": [
         {
          "class": "GT",
          "count(class)": 2
         },
         {
          "class": "DP/GT",
          "count(class)": 5
         }
        ]
       },
       "encoding": {
        "x": {
         "field": "class",
         "sort": "y",
         "type": "nominal"
        },
        "y": {
         "field": "count(class)",
         "type": "quantitative"
        }
       },
       "mark": "bar"
      },
      "image/png": "[encoded data removed]"
     },
     "metadata": {},
     "output_type": "display_data"
    },
    {
     "name": "stdout",
     "output_type": "stream",
     "text": [
      "\n",
      "\n",
      "=========================================================\n",
      "\n",
      "[Database]: hr_1\n",
      "[NL Question]: For all employees who have the letters D or S in their first name , give me the comparison about the amount of job_id over the job_id , and group by attribute job_id by a bar chart , and could you show names in descending order ?\n",
      "[Chart Template]: visualize bar select [x], [agg(y)] from employees where [w] group by [x] bin [x] by [i] order by [x] desc\n",
      "[Predicted VIS Query]: visualize bar select job_id , count(job_id) from employees where first_name like '%d%' or first_name like '%s%' group by job_id order by job_id desc\n",
      "[The Ground Truth VIS Query]: Visualize BAR SELECT JOB_ID , COUNT(JOB_ID) FROM employees WHERE first_name LIKE '%D%' OR first_name LIKE '%S%' GROUP BY JOB_ID ORDER BY JOB_ID DESC\n",
      "The Predicted VIS:\n"
     ]
    },
    {
     "data": {
      "application/vnd.vegalite.v4+json": {
       "data": {
        "values": [
         {
          "count(job_id)": 2,
          "job_id": "ST_MAN"
         },
         {
          "count(job_id)": 9,
          "job_id": "ST_CLERK"
         },
         {
          "count(job_id)": 9,
          "job_id": "SH_CLERK"
         },
         {
          "count(job_id)": 13,
          "job_id": "SA_REP"
         },
         {
          "count(job_id)": 1,
          "job_id": "SA_MAN"
         },
         {
          "count(job_id)": 1,
          "job_id": "PU_MAN"
         },
         {
          "count(job_id)": 3,
          "job_id": "PU_CLERK"
         },
         {
          "count(job_id)": 3,
          "job_id": "IT_PROG"
         },
         {
          "count(job_id)": 1,
          "job_id": "HR_REP"
         },
         {
          "count(job_id)": 4,
          "job_id": "FI_ACCOUNT"
         },
         {
          "count(job_id)": 1,
          "job_id": "AD_PRES"
         },
         {
          "count(job_id)": 1,
          "job_id": "AC_MGR"
         }
        ]
       },
       "encoding": {
        "x": {
         "field": "job_id",
         "sort": "-x",
         "type": "nominal"
        },
        "y": {
         "field": "count(job_id)",
         "type": "quantitative"
        }
       },
       "mark": "bar"
      },
      "image/png": "[encoded data removed]"
     },
     "metadata": {},
     "output_type": "display_data"
    },
    {
     "name": "stdout",
     "output_type": "stream",
     "text": [
      "\n",
      "\n"
     ]
    }
   ],
   "source": [
    "nl_acc = []\n",
    "nl_chart_acc = []\n",
    "\n",
    "test_result = []  # tvBench_id, chart_type, hardness, ifChartTemplate, ifRight=1\n",
    "\n",
    "only_nl_cnt = 0\n",
    "only_nl_match = 0\n",
    "\n",
    "nl_template_cnt = 0\n",
    "nl_template_match = 0\n",
    "i = 0\n",
    "\n",
    "create_vis = VisRendering()\n",
    "\n",
    "for index, row in test_df.iterrows():\n",
    "    gold_query = row['labels'].lower()\n",
    "\n",
    "    src = row['source'].lower()\n",
    "    i += 1\n",
    "\n",
    "    tok_types = row['token_types']\n",
    "\n",
    "    translation, attention, enc_attention = translate_sentence_with_guidance(\n",
    "        row['db_id'], gold_query.split(' ')[gold_query.split(' ').index('from') + 1],\n",
    "        src, SRC, TRG, TOK_TYPES, tok_types, SRC, model, db_tables_columns, device, my_max_length\n",
    "    )\n",
    "\n",
    "    pred_query = ' '.join(translation).replace(' <eos>', '').lower()\n",
    "    old_pred_query = pred_query\n",
    "\n",
    "    if '[c]' not in src:\n",
    "        # with template\n",
    "        pred_query = postprocessing(gold_query, pred_query, True, src)\n",
    "\n",
    "        nl_template_cnt += 1\n",
    "\n",
    "        if ' '.join(gold_query.replace('\"', \"'\").split()) == ' '.join(pred_query.replace('\"', \"'\").split()):\n",
    "            print('=========================================================\\n')\n",
    "            print('[Database]:', row['db_id'])\n",
    "            print('[NL Question]:', row['question'])\n",
    "            print('[Chart Template]:', row['query_template'])\n",
    "            print('[Predicted VIS Query]:',' '.join(pred_query.replace('\"', \"'\").split()))\n",
    "            print('[The Ground Truth VIS Query]:', row['query'])\n",
    "            \n",
    "            vis_query = create_vis.parse_output_query(\n",
    "                ' '.join(pred_query.replace('\"', \"'\").split())\n",
    "            )\n",
    "\n",
    "            data4vis = create_vis.query_sqlite3(\n",
    "                './dataset/database/',\n",
    "                row['db_id'],\n",
    "                vis_query['data_part']['sql_part']\n",
    "            )\n",
    "            \n",
    "            print('The Predicted VIS:')\n",
    "            create_vis.render_vis(data4vis, vis_query)\n",
    "            print('\\n')\n",
    "            \n",
    "        else:\n",
    "            pass\n",
    "\n",
    "    if '[c]' in src:\n",
    "        # without template\n",
    "        pred_query = postprocessing(gold_query, pred_query, False, src)\n",
    "\n",
    "        only_nl_cnt += 1\n",
    "        if ' '.join(gold_query.replace('\"', \"'\").split()) == ' '.join(pred_query.replace('\"', \"'\").split()):\n",
    "            print('=========================================================\\n')\n",
    "            print('[Database]:', row['db_id'])\n",
    "            print('[NL Question]:', row['question'])\n",
    "            print('[Chart Template]:', row['query_template'])\n",
    "            print('[Predicted VIS Query]:',' '.join(pred_query.replace('\"', \"'\").split()))\n",
    "            print('[The Ground Truth VIS Query]:', row['query'])\n",
    "\n",
    "            vis_query = create_vis.parse_output_query(\n",
    "                ' '.join(pred_query.replace('\"', \"'\").split())\n",
    "            )\n",
    "\n",
    "            data4vis = create_vis.query_sqlite3(\n",
    "                './dataset/database/',\n",
    "                row['db_id'],\n",
    "                vis_query['data_part']['sql_part']\n",
    "            )\n",
    "\n",
    "            print('The Predicted VIS:')\n",
    "            create_vis.render_vis(data4vis, vis_query)\n",
    "            print('\\n')\n",
    "            \n",
    "        else:\n",
    "            pass\n",
    "    \n",
    "    \n",
    "\n",
    "    #show top-50 testing cases.\n",
    "    if index > 50:\n",
    "        break\n"
   ]
  },
  {
   "cell_type": "code",
   "execution_count": null,
   "metadata": {},
   "outputs": [],
   "source": []
  }
 ],
 "metadata": {
  "kernelspec": {
   "display_name": "Python 3",
   "language": "python",
   "name": "python3"
  },
  "language_info": {
   "codemirror_mode": {
    "name": "ipython",
    "version": 3
   },
   "file_extension": ".py",
   "mimetype": "text/x-python",
   "name": "python",
   "nbconvert_exporter": "python",
   "pygments_lexer": "ipython3",
   "version": "3.8.3"
  },
  "latex_envs": {
   "LaTeX_envs_menu_present": true,
   "autoclose": false,
   "autocomplete": true,
   "bibliofile": "biblio.bib",
   "cite_by": "apalike",
   "current_citInitial": 1,
   "eqLabelWithNumbers": true,
   "eqNumInitial": 1,
   "hotkeys": {
    "equation": "Ctrl-E",
    "itemize": "Ctrl-I"
   },
   "labels_anchors": false,
   "latex_user_defs": false,
   "report_style_numbering": false,
   "user_envs_cfg": false
  },
  "toc": {
   "base_numbering": 1,
   "nav_menu": {},
   "number_sections": true,
   "sideBar": true,
   "skip_h1_title": false,
   "title_cell": "Table of Contents",
   "title_sidebar": "Contents",
   "toc_cell": false,
   "toc_position": {},
   "toc_section_display": true,
   "toc_window_display": false
  }
 },
 "nbformat": 4,
 "nbformat_minor": 4
}
