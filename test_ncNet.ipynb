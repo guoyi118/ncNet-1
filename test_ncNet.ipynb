{
 "cells": [
  {
   "cell_type": "code",
   "execution_count": 1,
   "metadata": {},
   "outputs": [
    {
     "name": "stdout",
     "output_type": "stream",
     "text": [
      "Requirement already satisfied: torch in /Users/yuyu/anaconda3/lib/python3.8/site-packages (1.8.1)\n",
      "Requirement already satisfied: numpy in /Users/yuyu/anaconda3/lib/python3.8/site-packages (from torch) (1.18.5)\n",
      "Requirement already satisfied: typing-extensions in /Users/yuyu/anaconda3/lib/python3.8/site-packages (from torch) (3.7.4.2)\n"
     ]
    }
   ],
   "source": [
    "! pip3 install torch"
   ]
  },
  {
   "cell_type": "code",
   "execution_count": 2,
   "metadata": {},
   "outputs": [
    {
     "name": "stdout",
     "output_type": "stream",
     "text": [
      "Found existing installation: torchtext 0.8.0\n",
      "Uninstalling torchtext-0.8.0:\n",
      "  Successfully uninstalled torchtext-0.8.0\n",
      "Collecting torchtext==0.8\n",
      "  Using cached torchtext-0.8.0-cp38-cp38-macosx_10_9_x86_64.whl (1.5 MB)\n",
      "Requirement already satisfied, skipping upgrade: tqdm in /Users/yuyu/anaconda3/lib/python3.8/site-packages (from torchtext==0.8) (4.47.0)\n",
      "Requirement already satisfied, skipping upgrade: requests in /Users/yuyu/anaconda3/lib/python3.8/site-packages (from torchtext==0.8) (2.24.0)\n",
      "Requirement already satisfied, skipping upgrade: numpy in /Users/yuyu/anaconda3/lib/python3.8/site-packages (from torchtext==0.8) (1.18.5)\n",
      "Requirement already satisfied, skipping upgrade: torch in /Users/yuyu/anaconda3/lib/python3.8/site-packages (from torchtext==0.8) (1.8.1)\n",
      "Requirement already satisfied, skipping upgrade: certifi>=2017.4.17 in /Users/yuyu/anaconda3/lib/python3.8/site-packages (from requests->torchtext==0.8) (2020.6.20)\n",
      "Requirement already satisfied, skipping upgrade: chardet<4,>=3.0.2 in /Users/yuyu/anaconda3/lib/python3.8/site-packages (from requests->torchtext==0.8) (3.0.4)\n",
      "Requirement already satisfied, skipping upgrade: urllib3!=1.25.0,!=1.25.1,<1.26,>=1.21.1 in /Users/yuyu/anaconda3/lib/python3.8/site-packages (from requests->torchtext==0.8) (1.25.9)\n",
      "Requirement already satisfied, skipping upgrade: idna<3,>=2.5 in /Users/yuyu/anaconda3/lib/python3.8/site-packages (from requests->torchtext==0.8) (2.10)\n",
      "Requirement already satisfied, skipping upgrade: typing-extensions in /Users/yuyu/anaconda3/lib/python3.8/site-packages (from torch->torchtext==0.8) (3.7.4.2)\n",
      "Installing collected packages: torchtext\n",
      "Successfully installed torchtext-0.8.0\n"
     ]
    }
   ],
   "source": [
    "!pip uninstall torchtext -y\n",
    "!pip install -U torchtext==0.8"
   ]
  },
  {
   "cell_type": "code",
   "execution_count": 4,
   "metadata": {
    "ExecuteTime": {
     "end_time": "2021-04-13T09:23:31.397656Z",
     "start_time": "2021-04-13T09:23:31.387727Z"
    }
   },
   "outputs": [],
   "source": [
    "import torch\n",
    "import torch.nn as nn\n",
    "\n",
    "from model.Model import Seq2Seq\n",
    "from model.Encoder import Encoder\n",
    "from model.Decoder import Decoder\n",
    "from model.VisAwareTranslation import translate_sentence_with_guidance, postprocessing, get_all_table_columns\n",
    "from preprocessing.build_vocab import build_vocab\n",
    "from utilities.vis_rendering import VisRendering\n",
    "\n",
    "from IPython.core.interactiveshell import InteractiveShell\n",
    "InteractiveShell.ast_node_interactivity = 'all'\n",
    "# from vega import VegaLite\n",
    "\n",
    "import random\n",
    "import numpy as np\n",
    "import pandas as pd\n",
    "import math"
   ]
  },
  {
   "cell_type": "code",
   "execution_count": 5,
   "metadata": {
    "ExecuteTime": {
     "end_time": "2021-04-13T09:13:16.777575Z",
     "start_time": "2021-04-13T09:13:16.654148Z"
    }
   },
   "outputs": [],
   "source": [
    "def evaluate(model, iterator, criterion):\n",
    "    model.eval()\n",
    "\n",
    "    epoch_loss = 0\n",
    "\n",
    "    with torch.no_grad():\n",
    "        for i, batch in enumerate(iterator):\n",
    "            src = batch.src\n",
    "            trg = batch.trg\n",
    "            tok_types = batch.tok_types\n",
    "\n",
    "            output, _ = model(src, trg[:, :-1], tok_types, SRC)\n",
    "\n",
    "            # output = [batch size, trg len - 1, output dim]\n",
    "            # trg = [batch size, trg len]\n",
    "\n",
    "            output_dim = output.shape[-1]\n",
    "\n",
    "            output = output.contiguous().view(-1, output_dim)\n",
    "            trg = trg[:, 1:].contiguous().view(-1)\n",
    "\n",
    "            # output = [batch size * trg len - 1, output dim]\n",
    "            # trg = [batch size * trg len - 1]\n",
    "\n",
    "            loss = criterion(output, trg)\n",
    "\n",
    "            epoch_loss += loss.item()\n",
    "\n",
    "    return epoch_loss / len(iterator)"
   ]
  },
  {
   "cell_type": "code",
   "execution_count": 6,
   "metadata": {},
   "outputs": [
    {
     "data": {
      "text/plain": [
       "<torch._C.Generator at 0x7ff88da245b0>"
      ]
     },
     "execution_count": 6,
     "metadata": {},
     "output_type": "execute_result"
    },
    {
     "name": "stdout",
     "output_type": "stream",
     "text": [
      "------------------------------\n",
      "| Build vocab start ... | \n",
      "------------------------------\n"
     ]
    },
    {
     "name": "stderr",
     "output_type": "stream",
     "text": [
      "/Users/yuyu/anaconda3/lib/python3.8/site-packages/torchtext/data/field.py:150: UserWarning: Field class will be retired soon and moved to torchtext.legacy. Please see the most recent release notes for further information.\n",
      "  warnings.warn('{} class will be retired soon and moved to torchtext.legacy. Please see the most recent release notes for further information.'.format(self.__class__.__name__), UserWarning)\n",
      "/Users/yuyu/anaconda3/lib/python3.8/site-packages/torchtext/data/example.py:68: UserWarning: Example class will be retired soon and moved to torchtext.legacy. Please see the most recent release notes for further information.\n",
      "  warnings.warn('Example class will be retired soon and moved to torchtext.legacy. Please see the most recent release notes for further information.', UserWarning)\n",
      "/Users/yuyu/anaconda3/lib/python3.8/site-packages/torchtext/data/example.py:78: UserWarning: Example class will be retired soon and moved to torchtext.legacy. Please see the most recent release notes for further information.\n",
      "  warnings.warn('Example class will be retired soon and moved to torchtext.legacy. Please see the most recent release notes for further information.', UserWarning)\n"
     ]
    },
    {
     "name": "stdout",
     "output_type": "stream",
     "text": [
      "------------------------------\n",
      "| Build vocab end ... | \n",
      "------------------------------\n"
     ]
    },
    {
     "name": "stderr",
     "output_type": "stream",
     "text": [
      "/Users/yuyu/anaconda3/lib/python3.8/site-packages/torchtext/data/iterator.py:48: UserWarning: BucketIterator class will be retired soon and moved to torchtext.legacy. Please see the most recent release notes for further information.\n",
      "  warnings.warn('{} class will be retired soon and moved to torchtext.legacy. Please see the most recent release notes for further information.'.format(self.__class__.__name__), UserWarning)\n"
     ]
    }
   ],
   "source": [
    "SEED = 1234\n",
    "\n",
    "random.seed(SEED)\n",
    "np.random.seed(SEED)\n",
    "torch.manual_seed(SEED)\n",
    "torch.cuda.manual_seed(SEED)\n",
    "torch.backends.cudnn.deterministic = True\n",
    "\n",
    "# device = torch.device('cuda' if torch.cuda.is_available() else 'cpu')\n",
    "device = torch.device('cpu')\n",
    "print(\"------------------------------\\n| Build vocab start ... | \\n------------------------------\")\n",
    "SRC, TRG, TOK_TYPES, BATCH_SIZE, train_iterator, valid_iterator, test_iterator, my_max_length = build_vocab(\n",
    "    path_to_training_data='./dataset/dataset_final/',\n",
    "    path_to_db_info='./dataset/database_information.csv'\n",
    ")\n",
    "print(\"------------------------------\\n| Build vocab end ... | \\n------------------------------\")"
   ]
  },
  {
   "cell_type": "code",
   "execution_count": 7,
   "metadata": {},
   "outputs": [],
   "source": [
    "INPUT_DIM = len(SRC.vocab)\n",
    "OUTPUT_DIM = len(TRG.vocab)\n",
    "HID_DIM = 256  # it equals to embedding dimension # 原来256，可以改成standard的512试一试\n",
    "ENC_LAYERS = 3  # 3--> 6\n",
    "DEC_LAYERS = 3  # 3-->6\n",
    "ENC_HEADS = 8\n",
    "DEC_HEADS = 8\n",
    "ENC_PF_DIM = 512\n",
    "DEC_PF_DIM = 512\n",
    "ENC_DROPOUT = 0.1\n",
    "DEC_DROPOUT = 0.1\n",
    "\n",
    "enc = Encoder(INPUT_DIM,\n",
    "              HID_DIM,\n",
    "              ENC_LAYERS,\n",
    "              ENC_HEADS,\n",
    "              ENC_PF_DIM,\n",
    "              ENC_DROPOUT,\n",
    "              device,\n",
    "              TOK_TYPES,\n",
    "              my_max_length\n",
    "              )\n",
    "\n",
    "dec = Decoder(OUTPUT_DIM,\n",
    "              HID_DIM,\n",
    "              DEC_LAYERS,\n",
    "              DEC_HEADS,\n",
    "              DEC_PF_DIM,\n",
    "              DEC_DROPOUT,\n",
    "              device,\n",
    "              my_max_length\n",
    "              )\n",
    "\n",
    "SRC_PAD_IDX = SRC.vocab.stoi[SRC.pad_token]\n",
    "TRG_PAD_IDX = TRG.vocab.stoi[TRG.pad_token]\n",
    "\n",
    "model = Seq2Seq(enc, dec, SRC, SRC_PAD_IDX, TRG_PAD_IDX, device).to(device)  # define the Seq2Seq model"
   ]
  },
  {
   "cell_type": "code",
   "execution_count": 8,
   "metadata": {},
   "outputs": [
    {
     "data": {
      "text/plain": [
       "<All keys matched successfully>"
      ]
     },
     "execution_count": 8,
     "metadata": {},
     "output_type": "execute_result"
    },
    {
     "name": "stderr",
     "output_type": "stream",
     "text": [
      "/Users/yuyu/anaconda3/lib/python3.8/site-packages/torchtext/data/batch.py:23: UserWarning: Batch class will be retired soon and moved to torchtext.legacy. Please see the most recent release notes for further information.\n",
      "  warnings.warn('{} class will be retired soon and moved to torchtext.legacy. Please see the most recent release notes for further information.'.format(self.__class__.__name__), UserWarning)\n"
     ]
    },
    {
     "name": "stdout",
     "output_type": "stream",
     "text": [
      "| Test Loss: 0.936 | Test PPL:   2.550 |\n"
     ]
    }
   ],
   "source": [
    "model.load_state_dict(torch.load('./save_models/model_best.pt', map_location=torch.device('cpu'))) ### map to cpu\n",
    "\n",
    "criterion = nn.CrossEntropyLoss(ignore_index=TRG_PAD_IDX)\n",
    "\n",
    "test_loss = evaluate(model, test_iterator, criterion)\n",
    "\n",
    "print(f'| Test Loss: {test_loss:.3f} | Test PPL: {math.exp(test_loss):7.3f} |')\n"
   ]
  },
  {
   "cell_type": "code",
   "execution_count": 9,
   "metadata": {},
   "outputs": [
    {
     "name": "stdout",
     "output_type": "stream",
     "text": [
      "visualize bar select all_home , school_id from basketball_match group by acc_road , all_home order by school_id asc\n"
     ]
    },
    {
     "data": {
      "application/vnd.vegalite.v4+json": {
       "data": {
        "values": [
         {
          "all_home": "14–2",
          "school_id": 1
         },
         {
          "all_home": "15–1",
          "school_id": 2
         },
         {
          "all_home": "14–2",
          "school_id": 4
         },
         {
          "all_home": "14–3",
          "school_id": 5
         }
        ]
       },
       "encoding": {
        "x": {
         "field": "all_home",
         "sort": "y",
         "type": "nominal"
        },
        "y": {
         "field": "school_id",
         "type": "quantitative"
        }
       },
       "mark": "bar"
      },
      "image/png": "[encoded data removed]"
     },
     "metadata": {},
     "output_type": "display_data"
    },
    {
     "name": "stdout",
     "output_type": "stream",
     "text": [
      "visualize bar select category , count(category) from music_festival where result = 'awarded' group by category order by count(category) asc\n"
     ]
    },
    {
     "data": {
      "application/vnd.vegalite.v4+json": {
       "data": {
        "values": [
         {
          "category": "Best Sound Song",
          "count(category)": 1
         },
         {
          "category": "Best Song",
          "count(category)": 2
         }
        ]
       },
       "encoding": {
        "x": {
         "field": "category",
         "sort": "y",
         "type": "nominal"
        },
        "y": {
         "field": "count(category)",
         "type": "quantitative"
        }
       },
       "mark": "bar"
      },
      "image/png": "[encoded data removed]"
     },
     "metadata": {},
     "output_type": "display_data"
    },
    {
     "name": "stdout",
     "output_type": "stream",
     "text": [
      "visualize pie select status , avg(population) from city group by status\n"
     ]
    },
    {
     "data": {
      "application/vnd.vegalite.v4+json": {
       "data": {
        "values": [
         {
          "avg(population)": 5706,
          "status": "Town"
         },
         {
          "avg(population)": 1009.75,
          "status": "Village"
         }
        ]
       },
       "encoding": {
        "color": {
         "field": "status",
         "type": "nominal"
        },
        "theta": {
         "field": "avg(population)",
         "type": "quantitative"
        }
       },
       "mark": "arc"
      },
      "image/png": "[encoded data removed]"
     },
     "metadata": {},
     "output_type": "display_data"
    },
    {
     "name": "stdout",
     "output_type": "stream",
     "text": [
      "visualize bar select hire_date , avg(department_id) from employees where salary between 8000 and 12000 and commission_pct != 'null' or department_id != 40 order by avg(department_id) asc bin hire_date by month\n"
     ]
    },
    {
     "data": {
      "application/vnd.vegalite.v4+json": {
       "data": {
        "values": [
         {
          "avg(department_id)": 62.8301886792,
          "hire_date": "1987-06-17"
         }
        ]
       },
       "encoding": {
        "x": {
         "field": "hire_date",
         "sort": "y",
         "type": "nominal"
        },
        "y": {
         "field": "avg(department_id)",
         "type": "quantitative"
        }
       },
       "mark": "bar"
      },
      "image/png": "[encoded data removed]"
     },
     "metadata": {},
     "output_type": "display_data"
    },
    {
     "name": "stdout",
     "output_type": "stream",
     "text": [
      "visualize pie select sex , count(*) from employee where salary < 50000 group by sex\n"
     ]
    },
    {
     "data": {
      "application/vnd.vegalite.v4+json": {
       "data": {
        "values": [
         {
          "count(*)": 3,
          "sex": "F"
         },
         {
          "count(*)": 4,
          "sex": "M"
         }
        ]
       },
       "encoding": {
        "color": {
         "field": "sex",
         "type": "nominal"
        },
        "theta": {
         "field": "count(*)",
         "type": "quantitative"
        }
       },
       "mark": "arc"
      },
      "image/png": "[encoded data removed]"
     },
     "metadata": {},
     "output_type": "display_data"
    },
    {
     "name": "stdout",
     "output_type": "stream",
     "text": [
      "visualize bar select dept_code , avg(stu_gpa) from student group by dept_code\n"
     ]
    },
    {
     "data": {
      "application/vnd.vegalite.v4+json": {
       "data": {
        "values": [
         {
          "avg(stu_gpa)": 2.7766666667,
          "dept_code": "ACCT"
         },
         {
          "avg(stu_gpa)": 2.84,
          "dept_code": "BIOL"
         },
         {
          "avg(stu_gpa)": 3.18,
          "dept_code": "CIS"
         },
         {
          "avg(stu_gpa)": 3.87,
          "dept_code": "EDU"
         },
         {
          "avg(stu_gpa)": 2.11,
          "dept_code": "ENGL"
         }
        ]
       },
       "encoding": {
        "x": {
         "field": "dept_code",
         "sort": "y",
         "type": "nominal"
        },
        "y": {
         "field": "avg(stu_gpa)",
         "type": "quantitative"
        }
       },
       "mark": "bar"
      },
      "image/png": "[encoded data removed]"
     },
     "metadata": {},
     "output_type": "display_data"
    },
    {
     "name": "stdout",
     "output_type": "stream",
     "text": [
      "visualize pie select allergytype , count(*) from allergy_type group by allergytype\n"
     ]
    },
    {
     "data": {
      "application/vnd.vegalite.v4+json": {
       "data": {
        "values": [
         {
          "allergytype": "animal",
          "count(*)": 4
         },
         {
          "allergytype": "environmental",
          "count(*)": 3
         },
         {
          "allergytype": "food",
          "count(*)": 7
         }
        ]
       },
       "encoding": {
        "color": {
         "field": "allergytype",
         "type": "nominal"
        },
        "theta": {
         "field": "count(*)",
         "type": "quantitative"
        }
       },
       "mark": "arc"
      },
      "image/png": "[encoded data removed]"
     },
     "metadata": {},
     "output_type": "display_data"
    },
    {
     "name": "stdout",
     "output_type": "stream",
     "text": [
      "visualize bar select time , meter_100 from swimmer order by meter_100 asc\n"
     ]
    },
    {
     "data": {
      "application/vnd.vegalite.v4+json": {
       "data": {
        "values": [
         {
          "meter_100": 55.67,
          "time": "7:52.04"
         },
         {
          "meter_100": 57.31,
          "time": "7:47.91"
         },
         {
          "meter_100": 57.31,
          "time": "7:46.95"
         },
         {
          "meter_100": 57.34,
          "time": "7:53.43"
         },
         {
          "meter_100": 57.34,
          "time": "7:55.39"
         },
         {
          "meter_100": 57.35,
          "time": "7:48.67"
         },
         {
          "meter_100": 57.66,
          "time": "7:49.98"
         },
         {
          "meter_100": 57.84,
          "time": "7:56.56"
         }
        ]
       },
       "encoding": {
        "x": {
         "field": "time",
         "sort": "y",
         "type": "nominal"
        },
        "y": {
         "field": "meter_100",
         "type": "quantitative"
        }
       },
       "mark": "bar"
      },
      "image/png": "[encoded data removed]"
     },
     "metadata": {},
     "output_type": "display_data"
    },
    {
     "name": "stdout",
     "output_type": "stream",
     "text": [
      "visualize bar select name , id from swimmer order by id desc\n"
     ]
    },
    {
     "data": {
      "application/vnd.vegalite.v4+json": {
       "data": {
        "values": [
         {
          "id": 8,
          "name": "Sébastien Rouault"
         },
         {
          "id": 7,
          "name": "Przemysław Stańczyk"
         },
         {
          "id": 6,
          "name": "Ryan Cochrane"
         },
         {
          "id": 5,
          "name": "Federico Colbertaldo"
         },
         {
          "id": 4,
          "name": "Craig Stevens"
         },
         {
          "id": 3,
          "name": "Oussama Mellouli"
         },
         {
          "id": 2,
          "name": "Grant Hackett"
         },
         {
          "id": 1,
          "name": "Sergiy Fesenko"
         }
        ]
       },
       "encoding": {
        "x": {
         "field": "name",
         "sort": "-y",
         "type": "nominal"
        },
        "y": {
         "field": "id",
         "type": "quantitative"
        }
       },
       "mark": "bar"
      },
      "image/png": "[encoded data removed]"
     },
     "metadata": {},
     "output_type": "display_data"
    },
    {
     "name": "stdout",
     "output_type": "stream",
     "text": [
      "visualize line select date_from , count(date_from) from project_staff bin date_from by year\n"
     ]
    },
    {
     "data": {
      "application/vnd.vegalite.v4+json": {
       "data": {
        "values": [
         {
          "count(date_from)": 15,
          "date_from": "1981-10-04 22:44:50"
         }
        ]
       },
       "encoding": {
        "x": {
         "field": "date_from",
         "sort": "x",
         "type": "nominal"
        },
        "y": {
         "field": "count(date_from)",
         "type": "quantitative"
        }
       },
       "mark": "line"
      },
      "image/png": "[encoded data removed]"
     },
     "metadata": {},
     "output_type": "display_data"
    },
    {
     "name": "stdout",
     "output_type": "stream",
     "text": [
      "visualize bar select last_name , salary from employees where department_id not in (select department_id from departments where manager_id between 100 and 200) order by last_name desc\n"
     ]
    },
    {
     "data": {
      "application/vnd.vegalite.v4+json": {
       "data": {
        "values": [
         {
          "last_name": "Mavris",
          "salary": 6500
         },
         {
          "last_name": "Higgins",
          "salary": 12000
         },
         {
          "last_name": "Hartstein",
          "salary": 13000
         },
         {
          "last_name": "Grant",
          "salary": 7000
         },
         {
          "last_name": "Gietz",
          "salary": 8300
         },
         {
          "last_name": "Fay",
          "salary": 6000
         },
         {
          "last_name": "Baer",
          "salary": 10000
         }
        ]
       },
       "encoding": {
        "x": {
         "field": "last_name",
         "sort": "-x",
         "type": "nominal"
        },
        "y": {
         "field": "salary",
         "type": "quantitative"
        }
       },
       "mark": "bar"
      },
      "image/png": "[encoded data removed]"
     },
     "metadata": {},
     "output_type": "display_data"
    },
    {
     "name": "stdout",
     "output_type": "stream",
     "text": [
      "visualize bar select hire_date , avg(employee_id) from employees where first_name like '%d%' or first_name like '%s%' order by avg(employee_id) asc bin hire_date by month\n"
     ]
    },
    {
     "data": {
      "application/vnd.vegalite.v4+json": {
       "data": {
        "values": [
         {
          "avg(employee_id)": 149.7708333333,
          "hire_date": "1987-06-17"
         }
        ]
       },
       "encoding": {
        "x": {
         "field": "hire_date",
         "sort": "y",
         "type": "nominal"
        },
        "y": {
         "field": "avg(employee_id)",
         "type": "quantitative"
        }
       },
       "mark": "bar"
      },
      "image/png": "[encoded data removed]"
     },
     "metadata": {},
     "output_type": "display_data"
    },
    {
     "name": "stdout",
     "output_type": "stream",
     "text": [
      "visualize pie select competition_type , count(*) from competition group by competition_type\n"
     ]
    },
    {
     "data": {
      "application/vnd.vegalite.v4+json": {
       "data": {
        "values": [
         {
          "competition_type": "Friendly",
          "count(*)": 8
         },
         {
          "competition_type": "Tournament",
          "count(*)": 3
         }
        ]
       },
       "encoding": {
        "color": {
         "field": "competition_type",
         "type": "nominal"
        },
        "theta": {
         "field": "count(*)",
         "type": "quantitative"
        }
       },
       "mark": "arc"
      },
      "image/png": "[encoded data removed]"
     },
     "metadata": {},
     "output_type": "display_data"
    },
    {
     "name": "stdout",
     "output_type": "stream",
     "text": [
      "visualize bar select date_of_birth , weight from people order by weight asc\n"
     ]
    },
    {
     "data": {
      "application/vnd.vegalite.v4+json": {
       "data": {
        "values": [
         {
          "date_of_birth": "28.09.1981",
          "weight": 82
         },
         {
          "date_of_birth": "06.10.1976",
          "weight": 83
         },
         {
          "date_of_birth": "10.11.1972",
          "weight": 85
         },
         {
          "date_of_birth": "01.09.1977",
          "weight": 88
         },
         {
          "date_of_birth": "22.04.1977",
          "weight": 88
         },
         {
          "date_of_birth": "20.08.1970",
          "weight": 89
         },
         {
          "date_of_birth": "10.03.1976",
          "weight": 90
         },
         {
          "date_of_birth": "05.05.1972",
          "weight": 92
         },
         {
          "date_of_birth": "03.02.1976",
          "weight": 94
         }
        ]
       },
       "encoding": {
        "x": {
         "field": "date_of_birth",
         "sort": "y",
         "type": "nominal"
        },
        "y": {
         "field": "weight",
         "type": "quantitative"
        }
       },
       "mark": "bar"
      },
      "image/png": "[encoded data removed]"
     },
     "metadata": {},
     "output_type": "display_data"
    },
    {
     "name": "stdout",
     "output_type": "stream",
     "text": [
      "visualize bar select apt_type_code , count(*) from apartments group by apt_type_code order by count(*) asc\n"
     ]
    },
    {
     "data": {
      "application/vnd.vegalite.v4+json": {
       "data": {
        "values": [
         {
          "apt_type_code": "Studio",
          "count(*)": 4
         },
         {
          "apt_type_code": "Duplex",
          "count(*)": 5
         },
         {
          "apt_type_code": "Flat",
          "count(*)": 6
         }
        ]
       },
       "encoding": {
        "x": {
         "field": "apt_type_code",
         "sort": "y",
         "type": "nominal"
        },
        "y": {
         "field": "count(*)",
         "type": "quantitative"
        }
       },
       "mark": "bar"
      },
      "image/png": "[encoded data removed]"
     },
     "metadata": {},
     "output_type": "display_data"
    },
    {
     "name": "stdout",
     "output_type": "stream",
     "text": [
      "visualize pie select location_code , count(*) from document_locations group by location_code\n"
     ]
    },
    {
     "data": {
      "application/vnd.vegalite.v4+json": {
       "data": {
        "values": [
         {
          "count(*)": 3,
          "location_code": "b"
         },
         {
          "count(*)": 2,
          "location_code": "c"
         },
         {
          "count(*)": 4,
          "location_code": "e"
         },
         {
          "count(*)": 1,
          "location_code": "n"
         },
         {
          "count(*)": 5,
          "location_code": "x"
         }
        ]
       },
       "encoding": {
        "color": {
         "field": "location_code",
         "type": "nominal"
        },
        "theta": {
         "field": "count(*)",
         "type": "quantitative"
        }
       },
       "mark": "arc"
      },
      "image/png": "[encoded data removed]"
     },
     "metadata": {},
     "output_type": "display_data"
    },
    {
     "name": "stdout",
     "output_type": "stream",
     "text": [
      "visualize line select hire_date , department_id from employees where department_id not in (select department_id from departments where manager_id between 100 and 200)\n"
     ]
    },
    {
     "data": {
      "application/vnd.vegalite.v4+json": {
       "data": {
        "values": [
         {
          "department_id": 0,
          "hire_date": "1987-09-03"
         },
         {
          "department_id": 20,
          "hire_date": "1987-09-26"
         },
         {
          "department_id": 20,
          "hire_date": "1987-09-27"
         },
         {
          "department_id": 40,
          "hire_date": "1987-09-28"
         },
         {
          "department_id": 70,
          "hire_date": "1987-09-29"
         },
         {
          "department_id": 110,
          "hire_date": "1987-09-30"
         },
         {
          "department_id": 110,
          "hire_date": "1987-10-01"
         }
        ]
       },
       "encoding": {
        "x": {
         "field": "hire_date",
         "sort": "x",
         "type": "nominal"
        },
        "y": {
         "field": "department_id",
         "type": "quantitative"
        }
       },
       "mark": "line"
      },
      "image/png": "[encoded data removed]"
     },
     "metadata": {},
     "output_type": "display_data"
    }
   ],
   "source": [
    "db_tables_columns = get_all_table_columns('./dataset/db_tables_columns.json')\n",
    "\n",
    "test_df = pd.read_csv('./dataset/dataset_final/test.csv')\n",
    "\n",
    "# shuffle your dataframe in-place and reset the index\n",
    "test_df = test_df.sample(frac=1).reset_index(drop=True)\n",
    "\n",
    "nl_acc = []\n",
    "nl_chart_acc = []\n",
    "\n",
    "test_result = []  # tvBench_id, chart_type, hardness, ifChartTemplate, ifRight=1\n",
    "\n",
    "only_nl_cnt = 0\n",
    "only_nl_match = 0\n",
    "\n",
    "nl_template_cnt = 0\n",
    "nl_template_match = 0\n",
    "i = 0\n",
    "\n",
    "create_vis = VisRendering()\n",
    "\n",
    "for index, row in test_df.iterrows():\n",
    "    gold_query = row['labels'].lower()\n",
    "\n",
    "    src = row['source'].lower()\n",
    "    i += 1\n",
    "\n",
    "    tok_types = row['token_types']\n",
    "\n",
    "    translation, attention, enc_attention = translate_sentence_with_guidance(\n",
    "        row['db_id'], gold_query.split(' ')[gold_query.split(' ').index('from') + 1],\n",
    "        src, SRC, TRG, TOK_TYPES, tok_types, SRC, model, db_tables_columns, device, my_max_length\n",
    "    )\n",
    "\n",
    "    pred_query = ' '.join(translation).replace(' <eos>', '').lower()\n",
    "    old_pred_query = pred_query\n",
    "\n",
    "    if '[c]' not in src:\n",
    "        # with template\n",
    "        pred_query = postprocessing(gold_query, pred_query, True, src)\n",
    "\n",
    "        nl_template_cnt += 1\n",
    "\n",
    "        if ' '.join(gold_query.replace('\"', \"'\").split()) == ' '.join(pred_query.replace('\"', \"'\").split()):\n",
    "            print(' '.join(pred_query.replace('\"', \"'\").split()))\n",
    "            vis_query = create_vis.parse_output_query(\n",
    "                ' '.join(pred_query.replace('\"', \"'\").split())\n",
    "            )\n",
    "\n",
    "            data4vis = create_vis.query_sqlite3(\n",
    "                './dataset/database/',\n",
    "                row['db_id'],\n",
    "                vis_query['data_part']['sql_part']\n",
    "            )\n",
    "\n",
    "            create_vis.render_vis(data4vis, vis_query)\n",
    "\n",
    "        else:\n",
    "            pass\n",
    "\n",
    "    if '[c]' in src:\n",
    "        # without template\n",
    "        pred_query = postprocessing(gold_query, pred_query, False, src)\n",
    "\n",
    "        only_nl_cnt += 1\n",
    "        if ' '.join(gold_query.replace('\"', \"'\").split()) == ' '.join(pred_query.replace('\"', \"'\").split()):\n",
    "            print(' '.join(pred_query.replace('\"', \"'\").split()))\n",
    "            vis_query = create_vis.parse_output_query(\n",
    "                ' '.join(pred_query.replace('\"', \"'\").split())\n",
    "            )\n",
    "\n",
    "            data4vis = create_vis.query_sqlite3(\n",
    "                './dataset/database/',\n",
    "                row['db_id'],\n",
    "                vis_query['data_part']['sql_part']\n",
    "            )\n",
    "\n",
    "            create_vis.render_vis(data4vis, vis_query)\n",
    "\n",
    "        else:\n",
    "            pass\n",
    "        \n",
    "    if index > 20:\n",
    "        break\n"
   ]
  },
  {
   "cell_type": "code",
   "execution_count": null,
   "metadata": {},
   "outputs": [],
   "source": []
  }
 ],
 "metadata": {
  "kernelspec": {
   "display_name": "Python 3",
   "language": "python",
   "name": "python3"
  },
  "language_info": {
   "codemirror_mode": {
    "name": "ipython",
    "version": 3
   },
   "file_extension": ".py",
   "mimetype": "text/x-python",
   "name": "python",
   "nbconvert_exporter": "python",
   "pygments_lexer": "ipython3",
   "version": "3.8.3"
  },
  "latex_envs": {
   "LaTeX_envs_menu_present": true,
   "autoclose": false,
   "autocomplete": true,
   "bibliofile": "biblio.bib",
   "cite_by": "apalike",
   "current_citInitial": 1,
   "eqLabelWithNumbers": true,
   "eqNumInitial": 1,
   "hotkeys": {
    "equation": "Ctrl-E",
    "itemize": "Ctrl-I"
   },
   "labels_anchors": false,
   "latex_user_defs": false,
   "report_style_numbering": false,
   "user_envs_cfg": false
  },
  "toc": {
   "base_numbering": 1,
   "nav_menu": {},
   "number_sections": true,
   "sideBar": true,
   "skip_h1_title": false,
   "title_cell": "Table of Contents",
   "title_sidebar": "Contents",
   "toc_cell": false,
   "toc_position": {},
   "toc_section_display": true,
   "toc_window_display": false
  }
 },
 "nbformat": 4,
 "nbformat_minor": 4
}
